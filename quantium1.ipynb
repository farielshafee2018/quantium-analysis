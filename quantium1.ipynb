{
 "cells": [
  {
   "cell_type": "code",
   "execution_count": 1,
   "id": "1cb23c08-aba8-4a83-b34b-634fb604467f",
   "metadata": {},
   "outputs": [],
   "source": [
    "import pandas as pd"
   ]
  },
  {
   "cell_type": "code",
   "execution_count": 4,
   "id": "986aa5ad-c985-491c-9997-a02daa10409e",
   "metadata": {},
   "outputs": [],
   "source": [
    "\n",
    "\n",
    "tran = pd.read_excel(\"QVI_transaction_data.xlsx\")"
   ]
  },
  {
   "cell_type": "code",
   "execution_count": 10,
   "id": "6a7c699b-646a-4130-8a96-d421dfbe13b3",
   "metadata": {},
   "outputs": [],
   "source": [
    "pur = pd.read_csv(\"QVI_purchase_behaviour.csv\")"
   ]
  },
  {
   "cell_type": "code",
   "execution_count": null,
   "id": "d227a2cb-90a4-45a6-ba7d-a6f8c0155359",
   "metadata": {},
   "outputs": [],
   "source": [
    "## examine data and its basic characteristics"
   ]
  },
  {
   "cell_type": "code",
   "execution_count": 11,
   "id": "ecd304c4-7927-4960-9cd9-2e350badf7c5",
   "metadata": {},
   "outputs": [
    {
     "data": {
      "text/html": [
       "<div>\n",
       "<style scoped>\n",
       "    .dataframe tbody tr th:only-of-type {\n",
       "        vertical-align: middle;\n",
       "    }\n",
       "\n",
       "    .dataframe tbody tr th {\n",
       "        vertical-align: top;\n",
       "    }\n",
       "\n",
       "    .dataframe thead th {\n",
       "        text-align: right;\n",
       "    }\n",
       "</style>\n",
       "<table border=\"1\" class=\"dataframe\">\n",
       "  <thead>\n",
       "    <tr style=\"text-align: right;\">\n",
       "      <th></th>\n",
       "      <th>DATE</th>\n",
       "      <th>STORE_NBR</th>\n",
       "      <th>LYLTY_CARD_NBR</th>\n",
       "      <th>TXN_ID</th>\n",
       "      <th>PROD_NBR</th>\n",
       "      <th>PROD_NAME</th>\n",
       "      <th>PROD_QTY</th>\n",
       "      <th>TOT_SALES</th>\n",
       "    </tr>\n",
       "  </thead>\n",
       "  <tbody>\n",
       "    <tr>\n",
       "      <th>0</th>\n",
       "      <td>43390</td>\n",
       "      <td>1</td>\n",
       "      <td>1000</td>\n",
       "      <td>1</td>\n",
       "      <td>5</td>\n",
       "      <td>Natural Chip        Compny SeaSalt175g</td>\n",
       "      <td>2</td>\n",
       "      <td>6.0</td>\n",
       "    </tr>\n",
       "    <tr>\n",
       "      <th>1</th>\n",
       "      <td>43599</td>\n",
       "      <td>1</td>\n",
       "      <td>1307</td>\n",
       "      <td>348</td>\n",
       "      <td>66</td>\n",
       "      <td>CCs Nacho Cheese    175g</td>\n",
       "      <td>3</td>\n",
       "      <td>6.3</td>\n",
       "    </tr>\n",
       "    <tr>\n",
       "      <th>2</th>\n",
       "      <td>43605</td>\n",
       "      <td>1</td>\n",
       "      <td>1343</td>\n",
       "      <td>383</td>\n",
       "      <td>61</td>\n",
       "      <td>Smiths Crinkle Cut  Chips Chicken 170g</td>\n",
       "      <td>2</td>\n",
       "      <td>2.9</td>\n",
       "    </tr>\n",
       "    <tr>\n",
       "      <th>3</th>\n",
       "      <td>43329</td>\n",
       "      <td>2</td>\n",
       "      <td>2373</td>\n",
       "      <td>974</td>\n",
       "      <td>69</td>\n",
       "      <td>Smiths Chip Thinly  S/Cream&amp;Onion 175g</td>\n",
       "      <td>5</td>\n",
       "      <td>15.0</td>\n",
       "    </tr>\n",
       "    <tr>\n",
       "      <th>4</th>\n",
       "      <td>43330</td>\n",
       "      <td>2</td>\n",
       "      <td>2426</td>\n",
       "      <td>1038</td>\n",
       "      <td>108</td>\n",
       "      <td>Kettle Tortilla ChpsHny&amp;Jlpno Chili 150g</td>\n",
       "      <td>3</td>\n",
       "      <td>13.8</td>\n",
       "    </tr>\n",
       "  </tbody>\n",
       "</table>\n",
       "</div>"
      ],
      "text/plain": [
       "    DATE  STORE_NBR  LYLTY_CARD_NBR  TXN_ID  PROD_NBR  \\\n",
       "0  43390          1            1000       1         5   \n",
       "1  43599          1            1307     348        66   \n",
       "2  43605          1            1343     383        61   \n",
       "3  43329          2            2373     974        69   \n",
       "4  43330          2            2426    1038       108   \n",
       "\n",
       "                                  PROD_NAME  PROD_QTY  TOT_SALES  \n",
       "0    Natural Chip        Compny SeaSalt175g         2        6.0  \n",
       "1                  CCs Nacho Cheese    175g         3        6.3  \n",
       "2    Smiths Crinkle Cut  Chips Chicken 170g         2        2.9  \n",
       "3    Smiths Chip Thinly  S/Cream&Onion 175g         5       15.0  \n",
       "4  Kettle Tortilla ChpsHny&Jlpno Chili 150g         3       13.8  "
      ]
     },
     "execution_count": 11,
     "metadata": {},
     "output_type": "execute_result"
    }
   ],
   "source": [
    "tran.head()"
   ]
  },
  {
   "cell_type": "code",
   "execution_count": 12,
   "id": "e5f5a023-79ea-4482-b859-5430f516c55f",
   "metadata": {},
   "outputs": [
    {
     "name": "stdout",
     "output_type": "stream",
     "text": [
      "<class 'pandas.core.frame.DataFrame'>\n",
      "RangeIndex: 264836 entries, 0 to 264835\n",
      "Data columns (total 8 columns):\n",
      " #   Column          Non-Null Count   Dtype  \n",
      "---  ------          --------------   -----  \n",
      " 0   DATE            264836 non-null  int64  \n",
      " 1   STORE_NBR       264836 non-null  int64  \n",
      " 2   LYLTY_CARD_NBR  264836 non-null  int64  \n",
      " 3   TXN_ID          264836 non-null  int64  \n",
      " 4   PROD_NBR        264836 non-null  int64  \n",
      " 5   PROD_NAME       264836 non-null  object \n",
      " 6   PROD_QTY        264836 non-null  int64  \n",
      " 7   TOT_SALES       264836 non-null  float64\n",
      "dtypes: float64(1), int64(6), object(1)\n",
      "memory usage: 16.2+ MB\n"
     ]
    }
   ],
   "source": [
    "tran.info()"
   ]
  },
  {
   "cell_type": "code",
   "execution_count": 13,
   "id": "b63733fa-cecf-4983-b1a0-c01c1ef5a186",
   "metadata": {},
   "outputs": [
    {
     "data": {
      "text/plain": [
       "(264836, 8)"
      ]
     },
     "execution_count": 13,
     "metadata": {},
     "output_type": "execute_result"
    }
   ],
   "source": [
    "tran.shape"
   ]
  },
  {
   "cell_type": "code",
   "execution_count": 14,
   "id": "1446eef9-b999-4ba8-9282-1d23a7184433",
   "metadata": {},
   "outputs": [
    {
     "data": {
      "text/plain": [
       "DATE              264836\n",
       "STORE_NBR         264836\n",
       "LYLTY_CARD_NBR    264836\n",
       "TXN_ID            264836\n",
       "PROD_NBR          264836\n",
       "PROD_NAME         264836\n",
       "PROD_QTY          264836\n",
       "TOT_SALES         264836\n",
       "dtype: int64"
      ]
     },
     "execution_count": 14,
     "metadata": {},
     "output_type": "execute_result"
    }
   ],
   "source": [
    "tran.isnull().count()"
   ]
  },
  {
   "cell_type": "code",
   "execution_count": 15,
   "id": "40c6c7cb-8583-4949-ae52-1f650e809908",
   "metadata": {},
   "outputs": [
    {
     "data": {
      "text/plain": [
       "DATE              0\n",
       "STORE_NBR         0\n",
       "LYLTY_CARD_NBR    0\n",
       "TXN_ID            0\n",
       "PROD_NBR          0\n",
       "PROD_NAME         0\n",
       "PROD_QTY          0\n",
       "TOT_SALES         0\n",
       "dtype: int64"
      ]
     },
     "execution_count": 15,
     "metadata": {},
     "output_type": "execute_result"
    }
   ],
   "source": [
    "tran.isnull().sum()"
   ]
  },
  {
   "cell_type": "code",
   "execution_count": 123,
   "id": "48a84e18-f47e-44af-afbc-4a7f90c86315",
   "metadata": {},
   "outputs": [],
   "source": [
    "# The data is clean"
   ]
  },
  {
   "cell_type": "code",
   "execution_count": null,
   "id": "7d5aeac3-c02d-4927-9995-63888358c6bb",
   "metadata": {},
   "outputs": [],
   "source": [
    "## examone the customer profiles and trends"
   ]
  },
  {
   "cell_type": "code",
   "execution_count": 17,
   "id": "f53cbc30-3a71-444e-84c7-27548b06837d",
   "metadata": {},
   "outputs": [
    {
     "data": {
      "text/html": [
       "<div>\n",
       "<style scoped>\n",
       "    .dataframe tbody tr th:only-of-type {\n",
       "        vertical-align: middle;\n",
       "    }\n",
       "\n",
       "    .dataframe tbody tr th {\n",
       "        vertical-align: top;\n",
       "    }\n",
       "\n",
       "    .dataframe thead th {\n",
       "        text-align: right;\n",
       "    }\n",
       "</style>\n",
       "<table border=\"1\" class=\"dataframe\">\n",
       "  <thead>\n",
       "    <tr style=\"text-align: right;\">\n",
       "      <th></th>\n",
       "      <th>LYLTY_CARD_NBR</th>\n",
       "      <th>LIFESTAGE</th>\n",
       "      <th>PREMIUM_CUSTOMER</th>\n",
       "    </tr>\n",
       "  </thead>\n",
       "  <tbody>\n",
       "    <tr>\n",
       "      <th>0</th>\n",
       "      <td>1000</td>\n",
       "      <td>YOUNG SINGLES/COUPLES</td>\n",
       "      <td>Premium</td>\n",
       "    </tr>\n",
       "    <tr>\n",
       "      <th>1</th>\n",
       "      <td>1002</td>\n",
       "      <td>YOUNG SINGLES/COUPLES</td>\n",
       "      <td>Mainstream</td>\n",
       "    </tr>\n",
       "    <tr>\n",
       "      <th>2</th>\n",
       "      <td>1003</td>\n",
       "      <td>YOUNG FAMILIES</td>\n",
       "      <td>Budget</td>\n",
       "    </tr>\n",
       "    <tr>\n",
       "      <th>3</th>\n",
       "      <td>1004</td>\n",
       "      <td>OLDER SINGLES/COUPLES</td>\n",
       "      <td>Mainstream</td>\n",
       "    </tr>\n",
       "    <tr>\n",
       "      <th>4</th>\n",
       "      <td>1005</td>\n",
       "      <td>MIDAGE SINGLES/COUPLES</td>\n",
       "      <td>Mainstream</td>\n",
       "    </tr>\n",
       "  </tbody>\n",
       "</table>\n",
       "</div>"
      ],
      "text/plain": [
       "   LYLTY_CARD_NBR               LIFESTAGE PREMIUM_CUSTOMER\n",
       "0            1000   YOUNG SINGLES/COUPLES          Premium\n",
       "1            1002   YOUNG SINGLES/COUPLES       Mainstream\n",
       "2            1003          YOUNG FAMILIES           Budget\n",
       "3            1004   OLDER SINGLES/COUPLES       Mainstream\n",
       "4            1005  MIDAGE SINGLES/COUPLES       Mainstream"
      ]
     },
     "execution_count": 17,
     "metadata": {},
     "output_type": "execute_result"
    }
   ],
   "source": [
    "pur.head()"
   ]
  },
  {
   "cell_type": "code",
   "execution_count": null,
   "id": "7bb00c21-2628-4573-852e-a0c487c3bcd3",
   "metadata": {},
   "outputs": [],
   "source": []
  },
  {
   "cell_type": "code",
   "execution_count": 18,
   "id": "fb3ed8be-05a5-4614-96ea-efdd9de8e74d",
   "metadata": {},
   "outputs": [
    {
     "data": {
      "text/plain": [
       "(72637, 3)"
      ]
     },
     "execution_count": 18,
     "metadata": {},
     "output_type": "execute_result"
    }
   ],
   "source": [
    "pur.shape"
   ]
  },
  {
   "cell_type": "code",
   "execution_count": 19,
   "id": "ea02b0a3-0b49-4250-96a5-f13b5ef38956",
   "metadata": {},
   "outputs": [
    {
     "name": "stdout",
     "output_type": "stream",
     "text": [
      "<class 'pandas.core.frame.DataFrame'>\n",
      "RangeIndex: 72637 entries, 0 to 72636\n",
      "Data columns (total 3 columns):\n",
      " #   Column            Non-Null Count  Dtype \n",
      "---  ------            --------------  ----- \n",
      " 0   LYLTY_CARD_NBR    72637 non-null  int64 \n",
      " 1   LIFESTAGE         72637 non-null  object\n",
      " 2   PREMIUM_CUSTOMER  72637 non-null  object\n",
      "dtypes: int64(1), object(2)\n",
      "memory usage: 1.7+ MB\n"
     ]
    }
   ],
   "source": [
    "pur.info()"
   ]
  },
  {
   "cell_type": "code",
   "execution_count": 21,
   "id": "292563b3-2d8b-4b89-8dec-d8a9843bcf23",
   "metadata": {},
   "outputs": [
    {
     "data": {
      "text/plain": [
       "LYLTY_CARD_NBR      0\n",
       "LIFESTAGE           0\n",
       "PREMIUM_CUSTOMER    0\n",
       "dtype: int64"
      ]
     },
     "execution_count": 21,
     "metadata": {},
     "output_type": "execute_result"
    }
   ],
   "source": [
    "pur.isnull().sum()"
   ]
  },
  {
   "cell_type": "code",
   "execution_count": null,
   "id": "ea048a5f-f30b-4bfc-a111-9cf9bdffa763",
   "metadata": {},
   "outputs": [],
   "source": [
    "# Let's categorize  the customers by lifestage and prremium "
   ]
  },
  {
   "cell_type": "code",
   "execution_count": 23,
   "id": "ce993ded-06dc-4453-b07c-08cecfa65d93",
   "metadata": {},
   "outputs": [
    {
     "data": {
      "text/plain": [
       "LIFESTAGE\n",
       "MIDAGE SINGLES/COUPLES     7275\n",
       "NEW FAMILIES               2549\n",
       "OLDER FAMILIES             9780\n",
       "OLDER SINGLES/COUPLES     14609\n",
       "RETIREES                  14805\n",
       "YOUNG FAMILIES             9178\n",
       "YOUNG SINGLES/COUPLES     14441\n",
       "Name: PREMIUM_CUSTOMER, dtype: int64"
      ]
     },
     "execution_count": 23,
     "metadata": {},
     "output_type": "execute_result"
    }
   ],
   "source": [
    "pur.groupby(\"LIFESTAGE\")[\"PREMIUM_CUSTOMER\"].count()"
   ]
  },
  {
   "cell_type": "code",
   "execution_count": 25,
   "id": "b9994134-3c3b-4b44-a9d3-7daed913a2e4",
   "metadata": {},
   "outputs": [
    {
     "data": {
      "text/plain": [
       "PREMIUM_CUSTOMER\n",
       "Budget        24470\n",
       "Mainstream    29245\n",
       "Premium       18922\n",
       "Name: PREMIUM_CUSTOMER, dtype: int64"
      ]
     },
     "execution_count": 25,
     "metadata": {},
     "output_type": "execute_result"
    }
   ],
   "source": [
    "pur.groupby(\"PREMIUM_CUSTOMER\")[\"PREMIUM_CUSTOMER\"].count()"
   ]
  },
  {
   "cell_type": "raw",
   "id": "6728a37e-8b4c-4954-be6c-10d60f84fbcf",
   "metadata": {},
   "source": [
    "pur1=pur[pur[\"PREMIUM_CUSTOMER\"]=\"Premium\"]"
   ]
  },
  {
   "cell_type": "code",
   "execution_count": 31,
   "id": "f9fbd610-f270-4f31-8eac-6222d77afd60",
   "metadata": {},
   "outputs": [],
   "source": [
    "pur1=pur[pur[\"PREMIUM_CUSTOMER\"]==\"Premium\"]"
   ]
  },
  {
   "cell_type": "code",
   "execution_count": 33,
   "id": "74878442-9e79-45c5-91c3-3067dea562d6",
   "metadata": {},
   "outputs": [
    {
     "data": {
      "text/plain": [
       "LIFESTAGE\n",
       "OLDER SINGLES/COUPLES     4750\n",
       "RETIREES                  3872\n",
       "YOUNG SINGLES/COUPLES     2574\n",
       "YOUNG FAMILIES            2433\n",
       "MIDAGE SINGLES/COUPLES    2431\n",
       "OLDER FAMILIES            2274\n",
       "NEW FAMILIES               588\n",
       "Name: LIFESTAGE, dtype: int64"
      ]
     },
     "execution_count": 33,
     "metadata": {},
     "output_type": "execute_result"
    }
   ],
   "source": [
    "pur1.groupby(\"LIFESTAGE\")[\"LIFESTAGE\"].count().sort_values(ascending=False)"
   ]
  },
  {
   "cell_type": "code",
   "execution_count": 34,
   "id": "c72f7be1-ec2c-4c86-925d-2d22ebc28360",
   "metadata": {},
   "outputs": [
    {
     "data": {
      "text/plain": [
       "LIFESTAGE\n",
       "YOUNG SINGLES/COUPLES     8088\n",
       "RETIREES                  6479\n",
       "OLDER SINGLES/COUPLES     4930\n",
       "MIDAGE SINGLES/COUPLES    3340\n",
       "OLDER FAMILIES            2831\n",
       "YOUNG FAMILIES            2728\n",
       "NEW FAMILIES               849\n",
       "Name: LIFESTAGE, dtype: int64"
      ]
     },
     "execution_count": 34,
     "metadata": {},
     "output_type": "execute_result"
    }
   ],
   "source": [
    "pur2=pur[pur[\"PREMIUM_CUSTOMER\"]==\"Mainstream\"]\n",
    "\n",
    "pur2.groupby(\"LIFESTAGE\")[\"LIFESTAGE\"].count().sort_values(ascending=False)"
   ]
  },
  {
   "cell_type": "code",
   "execution_count": 35,
   "id": "7cf63bd4-f201-4b61-ac40-6871f3eabf44",
   "metadata": {},
   "outputs": [
    {
     "data": {
      "text/plain": [
       "LIFESTAGE\n",
       "OLDER SINGLES/COUPLES     4929\n",
       "OLDER FAMILIES            4675\n",
       "RETIREES                  4454\n",
       "YOUNG FAMILIES            4017\n",
       "YOUNG SINGLES/COUPLES     3779\n",
       "MIDAGE SINGLES/COUPLES    1504\n",
       "NEW FAMILIES              1112\n",
       "Name: LIFESTAGE, dtype: int64"
      ]
     },
     "execution_count": 35,
     "metadata": {},
     "output_type": "execute_result"
    }
   ],
   "source": [
    "pur3=pur[pur[\"PREMIUM_CUSTOMER\"]==\"Budget\"]\n",
    "\n",
    "pur3.groupby(\"LIFESTAGE\")[\"LIFESTAGE\"].count().sort_values(ascending=False)"
   ]
  },
  {
   "cell_type": "code",
   "execution_count": null,
   "id": "8a841408-8015-485b-a9d0-829ea2bb5b24",
   "metadata": {},
   "outputs": [],
   "source": [
    "# Do a scatterplot to find outliers"
   ]
  },
  {
   "cell_type": "code",
   "execution_count": 36,
   "id": "eb89ed2e-7e46-412d-85b3-2c7ac6caca32",
   "metadata": {},
   "outputs": [],
   "source": [
    "import seaborn as sns\n",
    "import matplotlib.pyplot as plt"
   ]
  },
  {
   "cell_type": "code",
   "execution_count": 42,
   "id": "69deb856-98e6-4077-8fab-9adca38b27a5",
   "metadata": {},
   "outputs": [],
   "source": [
    "# merge data frames over loyalty card number"
   ]
  },
  {
   "cell_type": "code",
   "execution_count": 44,
   "id": "6bfc5e4a-01f2-47b1-b067-4f30f19851d9",
   "metadata": {},
   "outputs": [],
   "source": [
    "data = pd.merge(pur, tran, on =\"LYLTY_CARD_NBR\", how='inner')"
   ]
  },
  {
   "cell_type": "code",
   "execution_count": 46,
   "id": "15c6c02a-18d8-43fa-8286-7732698096e3",
   "metadata": {},
   "outputs": [
    {
     "data": {
      "text/html": [
       "<div>\n",
       "<style scoped>\n",
       "    .dataframe tbody tr th:only-of-type {\n",
       "        vertical-align: middle;\n",
       "    }\n",
       "\n",
       "    .dataframe tbody tr th {\n",
       "        vertical-align: top;\n",
       "    }\n",
       "\n",
       "    .dataframe thead th {\n",
       "        text-align: right;\n",
       "    }\n",
       "</style>\n",
       "<table border=\"1\" class=\"dataframe\">\n",
       "  <thead>\n",
       "    <tr style=\"text-align: right;\">\n",
       "      <th></th>\n",
       "      <th>LYLTY_CARD_NBR</th>\n",
       "      <th>LIFESTAGE</th>\n",
       "      <th>PREMIUM_CUSTOMER</th>\n",
       "      <th>DATE</th>\n",
       "      <th>STORE_NBR</th>\n",
       "      <th>TXN_ID</th>\n",
       "      <th>PROD_NBR</th>\n",
       "      <th>PROD_NAME</th>\n",
       "      <th>PROD_QTY</th>\n",
       "      <th>TOT_SALES</th>\n",
       "    </tr>\n",
       "  </thead>\n",
       "  <tbody>\n",
       "    <tr>\n",
       "      <th>0</th>\n",
       "      <td>1000</td>\n",
       "      <td>YOUNG SINGLES/COUPLES</td>\n",
       "      <td>Premium</td>\n",
       "      <td>43390</td>\n",
       "      <td>1</td>\n",
       "      <td>1</td>\n",
       "      <td>5</td>\n",
       "      <td>Natural Chip        Compny SeaSalt175g</td>\n",
       "      <td>2</td>\n",
       "      <td>6.0</td>\n",
       "    </tr>\n",
       "    <tr>\n",
       "      <th>1</th>\n",
       "      <td>1002</td>\n",
       "      <td>YOUNG SINGLES/COUPLES</td>\n",
       "      <td>Mainstream</td>\n",
       "      <td>43359</td>\n",
       "      <td>1</td>\n",
       "      <td>2</td>\n",
       "      <td>58</td>\n",
       "      <td>Red Rock Deli Chikn&amp;Garlic Aioli 150g</td>\n",
       "      <td>1</td>\n",
       "      <td>2.7</td>\n",
       "    </tr>\n",
       "    <tr>\n",
       "      <th>2</th>\n",
       "      <td>1003</td>\n",
       "      <td>YOUNG FAMILIES</td>\n",
       "      <td>Budget</td>\n",
       "      <td>43531</td>\n",
       "      <td>1</td>\n",
       "      <td>3</td>\n",
       "      <td>52</td>\n",
       "      <td>Grain Waves Sour    Cream&amp;Chives 210G</td>\n",
       "      <td>1</td>\n",
       "      <td>3.6</td>\n",
       "    </tr>\n",
       "    <tr>\n",
       "      <th>3</th>\n",
       "      <td>1003</td>\n",
       "      <td>YOUNG FAMILIES</td>\n",
       "      <td>Budget</td>\n",
       "      <td>43532</td>\n",
       "      <td>1</td>\n",
       "      <td>4</td>\n",
       "      <td>106</td>\n",
       "      <td>Natural ChipCo      Hony Soy Chckn175g</td>\n",
       "      <td>1</td>\n",
       "      <td>3.0</td>\n",
       "    </tr>\n",
       "    <tr>\n",
       "      <th>4</th>\n",
       "      <td>1004</td>\n",
       "      <td>OLDER SINGLES/COUPLES</td>\n",
       "      <td>Mainstream</td>\n",
       "      <td>43406</td>\n",
       "      <td>1</td>\n",
       "      <td>5</td>\n",
       "      <td>96</td>\n",
       "      <td>WW Original Stacked Chips 160g</td>\n",
       "      <td>1</td>\n",
       "      <td>1.9</td>\n",
       "    </tr>\n",
       "  </tbody>\n",
       "</table>\n",
       "</div>"
      ],
      "text/plain": [
       "   LYLTY_CARD_NBR              LIFESTAGE PREMIUM_CUSTOMER   DATE  STORE_NBR  \\\n",
       "0            1000  YOUNG SINGLES/COUPLES          Premium  43390          1   \n",
       "1            1002  YOUNG SINGLES/COUPLES       Mainstream  43359          1   \n",
       "2            1003         YOUNG FAMILIES           Budget  43531          1   \n",
       "3            1003         YOUNG FAMILIES           Budget  43532          1   \n",
       "4            1004  OLDER SINGLES/COUPLES       Mainstream  43406          1   \n",
       "\n",
       "   TXN_ID  PROD_NBR                               PROD_NAME  PROD_QTY  \\\n",
       "0       1         5  Natural Chip        Compny SeaSalt175g         2   \n",
       "1       2        58   Red Rock Deli Chikn&Garlic Aioli 150g         1   \n",
       "2       3        52   Grain Waves Sour    Cream&Chives 210G         1   \n",
       "3       4       106  Natural ChipCo      Hony Soy Chckn175g         1   \n",
       "4       5        96          WW Original Stacked Chips 160g         1   \n",
       "\n",
       "   TOT_SALES  \n",
       "0        6.0  \n",
       "1        2.7  \n",
       "2        3.6  \n",
       "3        3.0  \n",
       "4        1.9  "
      ]
     },
     "execution_count": 46,
     "metadata": {},
     "output_type": "execute_result"
    }
   ],
   "source": [
    "data.head()"
   ]
  },
  {
   "cell_type": "code",
   "execution_count": null,
   "id": "244797ea-c0d4-4477-a859-18b89ef9b9fd",
   "metadata": {},
   "outputs": [],
   "source": [
    "# examine the entire merged dataset "
   ]
  },
  {
   "cell_type": "code",
   "execution_count": 47,
   "id": "9e959529-db4b-4c43-8b76-b215b80ae199",
   "metadata": {},
   "outputs": [],
   "source": [
    "# find total sale of each product number"
   ]
  },
  {
   "cell_type": "code",
   "execution_count": 50,
   "id": "a91e5f1e-cb8e-4907-89ca-ed547fba0e78",
   "metadata": {},
   "outputs": [
    {
     "data": {
      "text/plain": [
       "PROD_NBR\n",
       "4      6509\n",
       "102    6381\n",
       "108    6309\n",
       "75     6277\n",
       "33     6256\n",
       "       ... \n",
       "11     2702\n",
       "76     2700\n",
       "98     2682\n",
       "72     2666\n",
       "29     2643\n",
       "Name: PROD_QTY, Length: 114, dtype: int64"
      ]
     },
     "execution_count": 50,
     "metadata": {},
     "output_type": "execute_result"
    }
   ],
   "source": [
    "data.groupby(\"PROD_NBR\")[\"PROD_QTY\"].sum().sort_values(ascending=False)"
   ]
  },
  {
   "cell_type": "code",
   "execution_count": 51,
   "id": "24263b4d-4022-4ea2-ac8f-02949a0bbf9c",
   "metadata": {},
   "outputs": [
    {
     "data": {
      "text/plain": [
       "PROD_NBR\n",
       "4      40352.0\n",
       "14     36367.6\n",
       "16     34804.2\n",
       "102    34457.4\n",
       "7      34302.6\n",
       "        ...   \n",
       "92      4702.2\n",
       "95      4600.2\n",
       "72      4532.2\n",
       "35      4234.5\n",
       "76      4050.0\n",
       "Name: TOT_SALES, Length: 114, dtype: float64"
      ]
     },
     "execution_count": 51,
     "metadata": {},
     "output_type": "execute_result"
    }
   ],
   "source": [
    "data.groupby(\"PROD_NBR\")[\"TOT_SALES\"].sum().sort_values(ascending=False)\n"
   ]
  },
  {
   "cell_type": "code",
   "execution_count": null,
   "id": "a1f10309-03ed-46f6-84d5-be14a17072e7",
   "metadata": {},
   "outputs": [],
   "source": [
    "# product 4 and product 102 seem to be selling very well quantity=wise and revenue-wise"
   ]
  },
  {
   "cell_type": "code",
   "execution_count": 52,
   "id": "b11c7a82-4d18-4989-95fb-d2be83783e4f",
   "metadata": {},
   "outputs": [],
   "source": [
    "## We now look at the products in detail.  We add two more columns, brand name and weight"
   ]
  },
  {
   "cell_type": "code",
   "execution_count": 55,
   "id": "c0d33858-a53e-403f-849a-2f8d47dd39fb",
   "metadata": {},
   "outputs": [],
   "source": [
    "data[\"wight_g\"]= data[\"PROD_NAME\"].str.extract('(\\d+)').astype(int)"
   ]
  },
  {
   "cell_type": "code",
   "execution_count": 56,
   "id": "10c8b549-1ac6-4d46-ba03-4f25f262a5d9",
   "metadata": {},
   "outputs": [
    {
     "data": {
      "text/html": [
       "<div>\n",
       "<style scoped>\n",
       "    .dataframe tbody tr th:only-of-type {\n",
       "        vertical-align: middle;\n",
       "    }\n",
       "\n",
       "    .dataframe tbody tr th {\n",
       "        vertical-align: top;\n",
       "    }\n",
       "\n",
       "    .dataframe thead th {\n",
       "        text-align: right;\n",
       "    }\n",
       "</style>\n",
       "<table border=\"1\" class=\"dataframe\">\n",
       "  <thead>\n",
       "    <tr style=\"text-align: right;\">\n",
       "      <th></th>\n",
       "      <th>LYLTY_CARD_NBR</th>\n",
       "      <th>LIFESTAGE</th>\n",
       "      <th>PREMIUM_CUSTOMER</th>\n",
       "      <th>DATE</th>\n",
       "      <th>STORE_NBR</th>\n",
       "      <th>TXN_ID</th>\n",
       "      <th>PROD_NBR</th>\n",
       "      <th>PROD_NAME</th>\n",
       "      <th>PROD_QTY</th>\n",
       "      <th>TOT_SALES</th>\n",
       "      <th>wight_g</th>\n",
       "    </tr>\n",
       "  </thead>\n",
       "  <tbody>\n",
       "    <tr>\n",
       "      <th>0</th>\n",
       "      <td>1000</td>\n",
       "      <td>YOUNG SINGLES/COUPLES</td>\n",
       "      <td>Premium</td>\n",
       "      <td>43390</td>\n",
       "      <td>1</td>\n",
       "      <td>1</td>\n",
       "      <td>5</td>\n",
       "      <td>Natural Chip        Compny SeaSalt175g</td>\n",
       "      <td>2</td>\n",
       "      <td>6.0</td>\n",
       "      <td>175</td>\n",
       "    </tr>\n",
       "    <tr>\n",
       "      <th>1</th>\n",
       "      <td>1002</td>\n",
       "      <td>YOUNG SINGLES/COUPLES</td>\n",
       "      <td>Mainstream</td>\n",
       "      <td>43359</td>\n",
       "      <td>1</td>\n",
       "      <td>2</td>\n",
       "      <td>58</td>\n",
       "      <td>Red Rock Deli Chikn&amp;Garlic Aioli 150g</td>\n",
       "      <td>1</td>\n",
       "      <td>2.7</td>\n",
       "      <td>150</td>\n",
       "    </tr>\n",
       "    <tr>\n",
       "      <th>2</th>\n",
       "      <td>1003</td>\n",
       "      <td>YOUNG FAMILIES</td>\n",
       "      <td>Budget</td>\n",
       "      <td>43531</td>\n",
       "      <td>1</td>\n",
       "      <td>3</td>\n",
       "      <td>52</td>\n",
       "      <td>Grain Waves Sour    Cream&amp;Chives 210G</td>\n",
       "      <td>1</td>\n",
       "      <td>3.6</td>\n",
       "      <td>210</td>\n",
       "    </tr>\n",
       "    <tr>\n",
       "      <th>3</th>\n",
       "      <td>1003</td>\n",
       "      <td>YOUNG FAMILIES</td>\n",
       "      <td>Budget</td>\n",
       "      <td>43532</td>\n",
       "      <td>1</td>\n",
       "      <td>4</td>\n",
       "      <td>106</td>\n",
       "      <td>Natural ChipCo      Hony Soy Chckn175g</td>\n",
       "      <td>1</td>\n",
       "      <td>3.0</td>\n",
       "      <td>175</td>\n",
       "    </tr>\n",
       "    <tr>\n",
       "      <th>4</th>\n",
       "      <td>1004</td>\n",
       "      <td>OLDER SINGLES/COUPLES</td>\n",
       "      <td>Mainstream</td>\n",
       "      <td>43406</td>\n",
       "      <td>1</td>\n",
       "      <td>5</td>\n",
       "      <td>96</td>\n",
       "      <td>WW Original Stacked Chips 160g</td>\n",
       "      <td>1</td>\n",
       "      <td>1.9</td>\n",
       "      <td>160</td>\n",
       "    </tr>\n",
       "  </tbody>\n",
       "</table>\n",
       "</div>"
      ],
      "text/plain": [
       "   LYLTY_CARD_NBR              LIFESTAGE PREMIUM_CUSTOMER   DATE  STORE_NBR  \\\n",
       "0            1000  YOUNG SINGLES/COUPLES          Premium  43390          1   \n",
       "1            1002  YOUNG SINGLES/COUPLES       Mainstream  43359          1   \n",
       "2            1003         YOUNG FAMILIES           Budget  43531          1   \n",
       "3            1003         YOUNG FAMILIES           Budget  43532          1   \n",
       "4            1004  OLDER SINGLES/COUPLES       Mainstream  43406          1   \n",
       "\n",
       "   TXN_ID  PROD_NBR                               PROD_NAME  PROD_QTY  \\\n",
       "0       1         5  Natural Chip        Compny SeaSalt175g         2   \n",
       "1       2        58   Red Rock Deli Chikn&Garlic Aioli 150g         1   \n",
       "2       3        52   Grain Waves Sour    Cream&Chives 210G         1   \n",
       "3       4       106  Natural ChipCo      Hony Soy Chckn175g         1   \n",
       "4       5        96          WW Original Stacked Chips 160g         1   \n",
       "\n",
       "   TOT_SALES  wight_g  \n",
       "0        6.0      175  \n",
       "1        2.7      150  \n",
       "2        3.6      210  \n",
       "3        3.0      175  \n",
       "4        1.9      160  "
      ]
     },
     "execution_count": 56,
     "metadata": {},
     "output_type": "execute_result"
    }
   ],
   "source": [
    "data.head()"
   ]
  },
  {
   "cell_type": "code",
   "execution_count": 57,
   "id": "e24daa3d-610c-4b7a-940b-fecf7039a2ae",
   "metadata": {},
   "outputs": [],
   "source": [
    "# let's fix the date column\n"
   ]
  },
  {
   "cell_type": "code",
   "execution_count": 64,
   "id": "fe2cb00a-c1e6-4caf-b2d5-5f06562699a0",
   "metadata": {},
   "outputs": [
    {
     "data": {
      "text/html": [
       "<div>\n",
       "<style scoped>\n",
       "    .dataframe tbody tr th:only-of-type {\n",
       "        vertical-align: middle;\n",
       "    }\n",
       "\n",
       "    .dataframe tbody tr th {\n",
       "        vertical-align: top;\n",
       "    }\n",
       "\n",
       "    .dataframe thead th {\n",
       "        text-align: right;\n",
       "    }\n",
       "</style>\n",
       "<table border=\"1\" class=\"dataframe\">\n",
       "  <thead>\n",
       "    <tr style=\"text-align: right;\">\n",
       "      <th></th>\n",
       "      <th>LYLTY_CARD_NBR</th>\n",
       "      <th>LIFESTAGE</th>\n",
       "      <th>PREMIUM_CUSTOMER</th>\n",
       "      <th>DATE</th>\n",
       "      <th>STORE_NBR</th>\n",
       "      <th>TXN_ID</th>\n",
       "      <th>PROD_NBR</th>\n",
       "      <th>PROD_NAME</th>\n",
       "      <th>PROD_QTY</th>\n",
       "      <th>TOT_SALES</th>\n",
       "      <th>wight_g</th>\n",
       "      <th>date</th>\n",
       "    </tr>\n",
       "  </thead>\n",
       "  <tbody>\n",
       "    <tr>\n",
       "      <th>0</th>\n",
       "      <td>1000</td>\n",
       "      <td>YOUNG SINGLES/COUPLES</td>\n",
       "      <td>Premium</td>\n",
       "      <td>43390</td>\n",
       "      <td>1</td>\n",
       "      <td>1</td>\n",
       "      <td>5</td>\n",
       "      <td>Natural Chip        Compny SeaSalt175g</td>\n",
       "      <td>2</td>\n",
       "      <td>6.0</td>\n",
       "      <td>175</td>\n",
       "      <td>1970-01-01</td>\n",
       "    </tr>\n",
       "    <tr>\n",
       "      <th>1</th>\n",
       "      <td>1002</td>\n",
       "      <td>YOUNG SINGLES/COUPLES</td>\n",
       "      <td>Mainstream</td>\n",
       "      <td>43359</td>\n",
       "      <td>1</td>\n",
       "      <td>2</td>\n",
       "      <td>58</td>\n",
       "      <td>Red Rock Deli Chikn&amp;Garlic Aioli 150g</td>\n",
       "      <td>1</td>\n",
       "      <td>2.7</td>\n",
       "      <td>150</td>\n",
       "      <td>1970-01-01</td>\n",
       "    </tr>\n",
       "    <tr>\n",
       "      <th>2</th>\n",
       "      <td>1003</td>\n",
       "      <td>YOUNG FAMILIES</td>\n",
       "      <td>Budget</td>\n",
       "      <td>43531</td>\n",
       "      <td>1</td>\n",
       "      <td>3</td>\n",
       "      <td>52</td>\n",
       "      <td>Grain Waves Sour    Cream&amp;Chives 210G</td>\n",
       "      <td>1</td>\n",
       "      <td>3.6</td>\n",
       "      <td>210</td>\n",
       "      <td>1970-01-01</td>\n",
       "    </tr>\n",
       "    <tr>\n",
       "      <th>3</th>\n",
       "      <td>1003</td>\n",
       "      <td>YOUNG FAMILIES</td>\n",
       "      <td>Budget</td>\n",
       "      <td>43532</td>\n",
       "      <td>1</td>\n",
       "      <td>4</td>\n",
       "      <td>106</td>\n",
       "      <td>Natural ChipCo      Hony Soy Chckn175g</td>\n",
       "      <td>1</td>\n",
       "      <td>3.0</td>\n",
       "      <td>175</td>\n",
       "      <td>1970-01-01</td>\n",
       "    </tr>\n",
       "    <tr>\n",
       "      <th>4</th>\n",
       "      <td>1004</td>\n",
       "      <td>OLDER SINGLES/COUPLES</td>\n",
       "      <td>Mainstream</td>\n",
       "      <td>43406</td>\n",
       "      <td>1</td>\n",
       "      <td>5</td>\n",
       "      <td>96</td>\n",
       "      <td>WW Original Stacked Chips 160g</td>\n",
       "      <td>1</td>\n",
       "      <td>1.9</td>\n",
       "      <td>160</td>\n",
       "      <td>1970-01-01</td>\n",
       "    </tr>\n",
       "  </tbody>\n",
       "</table>\n",
       "</div>"
      ],
      "text/plain": [
       "   LYLTY_CARD_NBR              LIFESTAGE PREMIUM_CUSTOMER   DATE  STORE_NBR  \\\n",
       "0            1000  YOUNG SINGLES/COUPLES          Premium  43390          1   \n",
       "1            1002  YOUNG SINGLES/COUPLES       Mainstream  43359          1   \n",
       "2            1003         YOUNG FAMILIES           Budget  43531          1   \n",
       "3            1003         YOUNG FAMILIES           Budget  43532          1   \n",
       "4            1004  OLDER SINGLES/COUPLES       Mainstream  43406          1   \n",
       "\n",
       "   TXN_ID  PROD_NBR                               PROD_NAME  PROD_QTY  \\\n",
       "0       1         5  Natural Chip        Compny SeaSalt175g         2   \n",
       "1       2        58   Red Rock Deli Chikn&Garlic Aioli 150g         1   \n",
       "2       3        52   Grain Waves Sour    Cream&Chives 210G         1   \n",
       "3       4       106  Natural ChipCo      Hony Soy Chckn175g         1   \n",
       "4       5        96          WW Original Stacked Chips 160g         1   \n",
       "\n",
       "   TOT_SALES  wight_g        date  \n",
       "0        6.0      175  1970-01-01  \n",
       "1        2.7      150  1970-01-01  \n",
       "2        3.6      210  1970-01-01  \n",
       "3        3.0      175  1970-01-01  \n",
       "4        1.9      160  1970-01-01  "
      ]
     },
     "execution_count": 64,
     "metadata": {},
     "output_type": "execute_result"
    }
   ],
   "source": [
    "data[\"date\"] = pd.to_datetime(data[\"DATE\"])\n",
    "data[\"date\"]=data[\"date\"].dt.date\n",
    "data.head()"
   ]
  },
  {
   "cell_type": "code",
   "execution_count": null,
   "id": "67a088eb-aa56-4717-94f1-ea479b297115",
   "metadata": {},
   "outputs": [],
   "source": [
    "# Let's reorganize the big file by cleaning up and making data clearer"
   ]
  },
  {
   "cell_type": "code",
   "execution_count": null,
   "id": "6c08b1b6-f015-47ae-9c83-252abc63695a",
   "metadata": {},
   "outputs": [],
   "source": [
    "# Let's order the data according to date"
   ]
  },
  {
   "cell_type": "code",
   "execution_count": 126,
   "id": "d4fe14c6-1f29-4b39-8a73-aed6809649c8",
   "metadata": {},
   "outputs": [
    {
     "data": {
      "text/html": [
       "<div>\n",
       "<style scoped>\n",
       "    .dataframe tbody tr th:only-of-type {\n",
       "        vertical-align: middle;\n",
       "    }\n",
       "\n",
       "    .dataframe tbody tr th {\n",
       "        vertical-align: top;\n",
       "    }\n",
       "\n",
       "    .dataframe thead th {\n",
       "        text-align: right;\n",
       "    }\n",
       "</style>\n",
       "<table border=\"1\" class=\"dataframe\">\n",
       "  <thead>\n",
       "    <tr style=\"text-align: right;\">\n",
       "      <th></th>\n",
       "      <th>LYLTY_CARD_NBR</th>\n",
       "      <th>LIFESTAGE</th>\n",
       "      <th>PREMIUM_CUSTOMER</th>\n",
       "      <th>DATE</th>\n",
       "      <th>STORE_NBR</th>\n",
       "      <th>TXN_ID</th>\n",
       "      <th>PROD_NBR</th>\n",
       "      <th>PROD_NAME</th>\n",
       "      <th>PROD_QTY</th>\n",
       "      <th>TOT_SALES</th>\n",
       "      <th>wight_g</th>\n",
       "      <th>date</th>\n",
       "      <th>brand</th>\n",
       "    </tr>\n",
       "  </thead>\n",
       "  <tbody>\n",
       "    <tr>\n",
       "      <th>0</th>\n",
       "      <td>1000</td>\n",
       "      <td>YOUNG SINGLES/COUPLES</td>\n",
       "      <td>Premium</td>\n",
       "      <td>43390</td>\n",
       "      <td>1</td>\n",
       "      <td>1</td>\n",
       "      <td>5</td>\n",
       "      <td>Natural Chip        Compny SeaSalt175g</td>\n",
       "      <td>2</td>\n",
       "      <td>6.0</td>\n",
       "      <td>175</td>\n",
       "      <td>1970-01-01</td>\n",
       "      <td>Natural Chips Cmpny Chips Cmpny</td>\n",
       "    </tr>\n",
       "    <tr>\n",
       "      <th>176578</th>\n",
       "      <td>179146</td>\n",
       "      <td>OLDER SINGLES/COUPLES</td>\n",
       "      <td>Mainstream</td>\n",
       "      <td>43508</td>\n",
       "      <td>179</td>\n",
       "      <td>180223</td>\n",
       "      <td>48</td>\n",
       "      <td>Red Rock Deli Sp    Salt &amp; Truffle 150G</td>\n",
       "      <td>2</td>\n",
       "      <td>5.4</td>\n",
       "      <td>150</td>\n",
       "      <td>1970-01-01</td>\n",
       "      <td>Red Rock Deli</td>\n",
       "    </tr>\n",
       "    <tr>\n",
       "      <th>176548</th>\n",
       "      <td>179142</td>\n",
       "      <td>YOUNG FAMILIES</td>\n",
       "      <td>Mainstream</td>\n",
       "      <td>43513</td>\n",
       "      <td>179</td>\n",
       "      <td>180190</td>\n",
       "      <td>16</td>\n",
       "      <td>Smiths Crinkle Chips Salt &amp; Vinegar 330g</td>\n",
       "      <td>2</td>\n",
       "      <td>11.4</td>\n",
       "      <td>330</td>\n",
       "      <td>1970-01-01</td>\n",
       "      <td>Smiths</td>\n",
       "    </tr>\n",
       "    <tr>\n",
       "      <th>176549</th>\n",
       "      <td>179142</td>\n",
       "      <td>YOUNG FAMILIES</td>\n",
       "      <td>Mainstream</td>\n",
       "      <td>43626</td>\n",
       "      <td>179</td>\n",
       "      <td>180193</td>\n",
       "      <td>23</td>\n",
       "      <td>Cheezels Cheese 330g</td>\n",
       "      <td>2</td>\n",
       "      <td>11.4</td>\n",
       "      <td>330</td>\n",
       "      <td>1970-01-01</td>\n",
       "      <td>Cheezels</td>\n",
       "    </tr>\n",
       "    <tr>\n",
       "      <th>176550</th>\n",
       "      <td>179143</td>\n",
       "      <td>YOUNG FAMILIES</td>\n",
       "      <td>Mainstream</td>\n",
       "      <td>43323</td>\n",
       "      <td>179</td>\n",
       "      <td>180194</td>\n",
       "      <td>105</td>\n",
       "      <td>Woolworths Cheese   Rings 190g</td>\n",
       "      <td>2</td>\n",
       "      <td>3.6</td>\n",
       "      <td>190</td>\n",
       "      <td>1970-01-01</td>\n",
       "      <td>Woolworths</td>\n",
       "    </tr>\n",
       "    <tr>\n",
       "      <th>...</th>\n",
       "      <td>...</td>\n",
       "      <td>...</td>\n",
       "      <td>...</td>\n",
       "      <td>...</td>\n",
       "      <td>...</td>\n",
       "      <td>...</td>\n",
       "      <td>...</td>\n",
       "      <td>...</td>\n",
       "      <td>...</td>\n",
       "      <td>...</td>\n",
       "      <td>...</td>\n",
       "      <td>...</td>\n",
       "      <td>...</td>\n",
       "    </tr>\n",
       "    <tr>\n",
       "      <th>88284</th>\n",
       "      <td>91259</td>\n",
       "      <td>OLDER FAMILIES</td>\n",
       "      <td>Budget</td>\n",
       "      <td>43288</td>\n",
       "      <td>91</td>\n",
       "      <td>90155</td>\n",
       "      <td>32</td>\n",
       "      <td>Kettle Sea Salt     And Vinegar 175g</td>\n",
       "      <td>2</td>\n",
       "      <td>10.8</td>\n",
       "      <td>175</td>\n",
       "      <td>1970-01-01</td>\n",
       "      <td>Kettle</td>\n",
       "    </tr>\n",
       "    <tr>\n",
       "      <th>88285</th>\n",
       "      <td>91259</td>\n",
       "      <td>OLDER FAMILIES</td>\n",
       "      <td>Budget</td>\n",
       "      <td>43314</td>\n",
       "      <td>91</td>\n",
       "      <td>90156</td>\n",
       "      <td>25</td>\n",
       "      <td>Pringles SourCream  Onion 134g</td>\n",
       "      <td>2</td>\n",
       "      <td>7.4</td>\n",
       "      <td>134</td>\n",
       "      <td>1970-01-01</td>\n",
       "      <td>Pringles</td>\n",
       "    </tr>\n",
       "    <tr>\n",
       "      <th>88286</th>\n",
       "      <td>91259</td>\n",
       "      <td>OLDER FAMILIES</td>\n",
       "      <td>Budget</td>\n",
       "      <td>43479</td>\n",
       "      <td>91</td>\n",
       "      <td>90157</td>\n",
       "      <td>65</td>\n",
       "      <td>Old El Paso Salsa   Dip Chnky Tom Ht300g</td>\n",
       "      <td>2</td>\n",
       "      <td>10.2</td>\n",
       "      <td>300</td>\n",
       "      <td>1970-01-01</td>\n",
       "      <td>Old</td>\n",
       "    </tr>\n",
       "    <tr>\n",
       "      <th>88287</th>\n",
       "      <td>91259</td>\n",
       "      <td>OLDER FAMILIES</td>\n",
       "      <td>Budget</td>\n",
       "      <td>43486</td>\n",
       "      <td>91</td>\n",
       "      <td>90158</td>\n",
       "      <td>17</td>\n",
       "      <td>Kettle Sensations   BBQ&amp;Maple 150g</td>\n",
       "      <td>2</td>\n",
       "      <td>9.2</td>\n",
       "      <td>150</td>\n",
       "      <td>1970-01-01</td>\n",
       "      <td>Kettle</td>\n",
       "    </tr>\n",
       "    <tr>\n",
       "      <th>264835</th>\n",
       "      <td>2373711</td>\n",
       "      <td>YOUNG SINGLES/COUPLES</td>\n",
       "      <td>Mainstream</td>\n",
       "      <td>43448</td>\n",
       "      <td>88</td>\n",
       "      <td>241815</td>\n",
       "      <td>16</td>\n",
       "      <td>Smiths Crinkle Chips Salt &amp; Vinegar 330g</td>\n",
       "      <td>2</td>\n",
       "      <td>11.4</td>\n",
       "      <td>330</td>\n",
       "      <td>1970-01-01</td>\n",
       "      <td>Smiths</td>\n",
       "    </tr>\n",
       "  </tbody>\n",
       "</table>\n",
       "<p>264836 rows × 13 columns</p>\n",
       "</div>"
      ],
      "text/plain": [
       "        LYLTY_CARD_NBR              LIFESTAGE PREMIUM_CUSTOMER   DATE  \\\n",
       "0                 1000  YOUNG SINGLES/COUPLES          Premium  43390   \n",
       "176578          179146  OLDER SINGLES/COUPLES       Mainstream  43508   \n",
       "176548          179142         YOUNG FAMILIES       Mainstream  43513   \n",
       "176549          179142         YOUNG FAMILIES       Mainstream  43626   \n",
       "176550          179143         YOUNG FAMILIES       Mainstream  43323   \n",
       "...                ...                    ...              ...    ...   \n",
       "88284            91259         OLDER FAMILIES           Budget  43288   \n",
       "88285            91259         OLDER FAMILIES           Budget  43314   \n",
       "88286            91259         OLDER FAMILIES           Budget  43479   \n",
       "88287            91259         OLDER FAMILIES           Budget  43486   \n",
       "264835         2373711  YOUNG SINGLES/COUPLES       Mainstream  43448   \n",
       "\n",
       "        STORE_NBR  TXN_ID  PROD_NBR                                 PROD_NAME  \\\n",
       "0               1       1         5    Natural Chip        Compny SeaSalt175g   \n",
       "176578        179  180223        48   Red Rock Deli Sp    Salt & Truffle 150G   \n",
       "176548        179  180190        16  Smiths Crinkle Chips Salt & Vinegar 330g   \n",
       "176549        179  180193        23                      Cheezels Cheese 330g   \n",
       "176550        179  180194       105            Woolworths Cheese   Rings 190g   \n",
       "...           ...     ...       ...                                       ...   \n",
       "88284          91   90155        32      Kettle Sea Salt     And Vinegar 175g   \n",
       "88285          91   90156        25            Pringles SourCream  Onion 134g   \n",
       "88286          91   90157        65  Old El Paso Salsa   Dip Chnky Tom Ht300g   \n",
       "88287          91   90158        17        Kettle Sensations   BBQ&Maple 150g   \n",
       "264835         88  241815        16  Smiths Crinkle Chips Salt & Vinegar 330g   \n",
       "\n",
       "        PROD_QTY  TOT_SALES  wight_g        date  \\\n",
       "0              2        6.0      175  1970-01-01   \n",
       "176578         2        5.4      150  1970-01-01   \n",
       "176548         2       11.4      330  1970-01-01   \n",
       "176549         2       11.4      330  1970-01-01   \n",
       "176550         2        3.6      190  1970-01-01   \n",
       "...          ...        ...      ...         ...   \n",
       "88284          2       10.8      175  1970-01-01   \n",
       "88285          2        7.4      134  1970-01-01   \n",
       "88286          2       10.2      300  1970-01-01   \n",
       "88287          2        9.2      150  1970-01-01   \n",
       "264835         2       11.4      330  1970-01-01   \n",
       "\n",
       "                                  brand  \n",
       "0       Natural Chips Cmpny Chips Cmpny  \n",
       "176578                    Red Rock Deli  \n",
       "176548                           Smiths  \n",
       "176549                         Cheezels  \n",
       "176550                       Woolworths  \n",
       "...                                 ...  \n",
       "88284                            Kettle  \n",
       "88285                          Pringles  \n",
       "88286                               Old  \n",
       "88287                            Kettle  \n",
       "264835                           Smiths  \n",
       "\n",
       "[264836 rows x 13 columns]"
      ]
     },
     "execution_count": 126,
     "metadata": {},
     "output_type": "execute_result"
    }
   ],
   "source": [
    "data.sort_values(by =\"date\", ascending = False)"
   ]
  },
  {
   "cell_type": "code",
   "execution_count": null,
   "id": "2f7f8bc4-875d-4bcd-8c62-596d4a7feb76",
   "metadata": {},
   "outputs": [],
   "source": [
    "#Let's get the first word of all prod names and find brands"
   ]
  },
  {
   "cell_type": "code",
   "execution_count": 65,
   "id": "87bb1d12-76b6-4d7f-b6bb-5c6d46a560c1",
   "metadata": {},
   "outputs": [],
   "source": [
    "data[\"brand\"] = data[\"PROD_NAME\"].str.split().str.get(0)"
   ]
  },
  {
   "cell_type": "code",
   "execution_count": 71,
   "id": "7dd68c48-4648-44e3-a174-e3975af4c560",
   "metadata": {},
   "outputs": [
    {
     "data": {
      "text/html": [
       "<div>\n",
       "<style scoped>\n",
       "    .dataframe tbody tr th:only-of-type {\n",
       "        vertical-align: middle;\n",
       "    }\n",
       "\n",
       "    .dataframe tbody tr th {\n",
       "        vertical-align: top;\n",
       "    }\n",
       "\n",
       "    .dataframe thead th {\n",
       "        text-align: right;\n",
       "    }\n",
       "</style>\n",
       "<table border=\"1\" class=\"dataframe\">\n",
       "  <thead>\n",
       "    <tr style=\"text-align: right;\">\n",
       "      <th></th>\n",
       "      <th>LYLTY_CARD_NBR</th>\n",
       "      <th>LIFESTAGE</th>\n",
       "      <th>PREMIUM_CUSTOMER</th>\n",
       "      <th>DATE</th>\n",
       "      <th>STORE_NBR</th>\n",
       "      <th>TXN_ID</th>\n",
       "      <th>PROD_NBR</th>\n",
       "      <th>PROD_NAME</th>\n",
       "      <th>PROD_QTY</th>\n",
       "      <th>TOT_SALES</th>\n",
       "      <th>wight_g</th>\n",
       "      <th>date</th>\n",
       "      <th>brand</th>\n",
       "    </tr>\n",
       "  </thead>\n",
       "  <tbody>\n",
       "    <tr>\n",
       "      <th>0</th>\n",
       "      <td>1000</td>\n",
       "      <td>YOUNG SINGLES/COUPLES</td>\n",
       "      <td>Premium</td>\n",
       "      <td>43390</td>\n",
       "      <td>1</td>\n",
       "      <td>1</td>\n",
       "      <td>5</td>\n",
       "      <td>Natural Chip        Compny SeaSalt175g</td>\n",
       "      <td>2</td>\n",
       "      <td>6.0</td>\n",
       "      <td>175</td>\n",
       "      <td>1970-01-01</td>\n",
       "      <td>Natural</td>\n",
       "    </tr>\n",
       "    <tr>\n",
       "      <th>1</th>\n",
       "      <td>1002</td>\n",
       "      <td>YOUNG SINGLES/COUPLES</td>\n",
       "      <td>Mainstream</td>\n",
       "      <td>43359</td>\n",
       "      <td>1</td>\n",
       "      <td>2</td>\n",
       "      <td>58</td>\n",
       "      <td>Red Rock Deli Chikn&amp;Garlic Aioli 150g</td>\n",
       "      <td>1</td>\n",
       "      <td>2.7</td>\n",
       "      <td>150</td>\n",
       "      <td>1970-01-01</td>\n",
       "      <td>Red</td>\n",
       "    </tr>\n",
       "    <tr>\n",
       "      <th>2</th>\n",
       "      <td>1003</td>\n",
       "      <td>YOUNG FAMILIES</td>\n",
       "      <td>Budget</td>\n",
       "      <td>43531</td>\n",
       "      <td>1</td>\n",
       "      <td>3</td>\n",
       "      <td>52</td>\n",
       "      <td>Grain Waves Sour    Cream&amp;Chives 210G</td>\n",
       "      <td>1</td>\n",
       "      <td>3.6</td>\n",
       "      <td>210</td>\n",
       "      <td>1970-01-01</td>\n",
       "      <td>Grain</td>\n",
       "    </tr>\n",
       "    <tr>\n",
       "      <th>3</th>\n",
       "      <td>1003</td>\n",
       "      <td>YOUNG FAMILIES</td>\n",
       "      <td>Budget</td>\n",
       "      <td>43532</td>\n",
       "      <td>1</td>\n",
       "      <td>4</td>\n",
       "      <td>106</td>\n",
       "      <td>Natural ChipCo      Hony Soy Chckn175g</td>\n",
       "      <td>1</td>\n",
       "      <td>3.0</td>\n",
       "      <td>175</td>\n",
       "      <td>1970-01-01</td>\n",
       "      <td>Natural</td>\n",
       "    </tr>\n",
       "    <tr>\n",
       "      <th>4</th>\n",
       "      <td>1004</td>\n",
       "      <td>OLDER SINGLES/COUPLES</td>\n",
       "      <td>Mainstream</td>\n",
       "      <td>43406</td>\n",
       "      <td>1</td>\n",
       "      <td>5</td>\n",
       "      <td>96</td>\n",
       "      <td>WW Original Stacked Chips 160g</td>\n",
       "      <td>1</td>\n",
       "      <td>1.9</td>\n",
       "      <td>160</td>\n",
       "      <td>1970-01-01</td>\n",
       "      <td>WW</td>\n",
       "    </tr>\n",
       "    <tr>\n",
       "      <th>5</th>\n",
       "      <td>1005</td>\n",
       "      <td>MIDAGE SINGLES/COUPLES</td>\n",
       "      <td>Mainstream</td>\n",
       "      <td>43462</td>\n",
       "      <td>1</td>\n",
       "      <td>6</td>\n",
       "      <td>86</td>\n",
       "      <td>Cheetos Puffs 165g</td>\n",
       "      <td>1</td>\n",
       "      <td>2.8</td>\n",
       "      <td>165</td>\n",
       "      <td>1970-01-01</td>\n",
       "      <td>Cheetos</td>\n",
       "    </tr>\n",
       "    <tr>\n",
       "      <th>6</th>\n",
       "      <td>1007</td>\n",
       "      <td>YOUNG SINGLES/COUPLES</td>\n",
       "      <td>Budget</td>\n",
       "      <td>43438</td>\n",
       "      <td>1</td>\n",
       "      <td>7</td>\n",
       "      <td>49</td>\n",
       "      <td>Infuzions SourCream&amp;Herbs Veg Strws 110g</td>\n",
       "      <td>1</td>\n",
       "      <td>3.8</td>\n",
       "      <td>110</td>\n",
       "      <td>1970-01-01</td>\n",
       "      <td>Infuzions</td>\n",
       "    </tr>\n",
       "    <tr>\n",
       "      <th>7</th>\n",
       "      <td>1007</td>\n",
       "      <td>YOUNG SINGLES/COUPLES</td>\n",
       "      <td>Budget</td>\n",
       "      <td>43439</td>\n",
       "      <td>1</td>\n",
       "      <td>8</td>\n",
       "      <td>10</td>\n",
       "      <td>RRD SR Slow Rst     Pork Belly 150g</td>\n",
       "      <td>1</td>\n",
       "      <td>2.7</td>\n",
       "      <td>150</td>\n",
       "      <td>1970-01-01</td>\n",
       "      <td>RRD</td>\n",
       "    </tr>\n",
       "    <tr>\n",
       "      <th>8</th>\n",
       "      <td>1009</td>\n",
       "      <td>NEW FAMILIES</td>\n",
       "      <td>Premium</td>\n",
       "      <td>43424</td>\n",
       "      <td>1</td>\n",
       "      <td>9</td>\n",
       "      <td>20</td>\n",
       "      <td>Doritos Cheese      Supreme 330g</td>\n",
       "      <td>1</td>\n",
       "      <td>5.7</td>\n",
       "      <td>330</td>\n",
       "      <td>1970-01-01</td>\n",
       "      <td>Doritos</td>\n",
       "    </tr>\n",
       "    <tr>\n",
       "      <th>9</th>\n",
       "      <td>1010</td>\n",
       "      <td>YOUNG SINGLES/COUPLES</td>\n",
       "      <td>Mainstream</td>\n",
       "      <td>43352</td>\n",
       "      <td>1</td>\n",
       "      <td>10</td>\n",
       "      <td>51</td>\n",
       "      <td>Doritos Mexicana    170g</td>\n",
       "      <td>2</td>\n",
       "      <td>8.8</td>\n",
       "      <td>170</td>\n",
       "      <td>1970-01-01</td>\n",
       "      <td>Doritos</td>\n",
       "    </tr>\n",
       "    <tr>\n",
       "      <th>10</th>\n",
       "      <td>1010</td>\n",
       "      <td>YOUNG SINGLES/COUPLES</td>\n",
       "      <td>Mainstream</td>\n",
       "      <td>43448</td>\n",
       "      <td>1</td>\n",
       "      <td>11</td>\n",
       "      <td>59</td>\n",
       "      <td>Old El Paso Salsa   Dip Tomato Med 300g</td>\n",
       "      <td>1</td>\n",
       "      <td>5.1</td>\n",
       "      <td>300</td>\n",
       "      <td>1970-01-01</td>\n",
       "      <td>Old</td>\n",
       "    </tr>\n",
       "    <tr>\n",
       "      <th>11</th>\n",
       "      <td>1011</td>\n",
       "      <td>OLDER SINGLES/COUPLES</td>\n",
       "      <td>Mainstream</td>\n",
       "      <td>43310</td>\n",
       "      <td>1</td>\n",
       "      <td>12</td>\n",
       "      <td>84</td>\n",
       "      <td>GrnWves Plus Btroot &amp; Chilli Jam 180g</td>\n",
       "      <td>2</td>\n",
       "      <td>6.2</td>\n",
       "      <td>180</td>\n",
       "      <td>1970-01-01</td>\n",
       "      <td>GrnWves</td>\n",
       "    </tr>\n",
       "    <tr>\n",
       "      <th>12</th>\n",
       "      <td>1011</td>\n",
       "      <td>OLDER SINGLES/COUPLES</td>\n",
       "      <td>Mainstream</td>\n",
       "      <td>43412</td>\n",
       "      <td>1</td>\n",
       "      <td>13</td>\n",
       "      <td>59</td>\n",
       "      <td>Old El Paso Salsa   Dip Tomato Med 300g</td>\n",
       "      <td>1</td>\n",
       "      <td>5.1</td>\n",
       "      <td>300</td>\n",
       "      <td>1970-01-01</td>\n",
       "      <td>Old</td>\n",
       "    </tr>\n",
       "    <tr>\n",
       "      <th>13</th>\n",
       "      <td>1011</td>\n",
       "      <td>OLDER SINGLES/COUPLES</td>\n",
       "      <td>Mainstream</td>\n",
       "      <td>43435</td>\n",
       "      <td>1</td>\n",
       "      <td>14</td>\n",
       "      <td>49</td>\n",
       "      <td>Infuzions SourCream&amp;Herbs Veg Strws 110g</td>\n",
       "      <td>1</td>\n",
       "      <td>3.8</td>\n",
       "      <td>110</td>\n",
       "      <td>1970-01-01</td>\n",
       "      <td>Infuzions</td>\n",
       "    </tr>\n",
       "    <tr>\n",
       "      <th>14</th>\n",
       "      <td>1011</td>\n",
       "      <td>OLDER SINGLES/COUPLES</td>\n",
       "      <td>Mainstream</td>\n",
       "      <td>43453</td>\n",
       "      <td>1</td>\n",
       "      <td>15</td>\n",
       "      <td>1</td>\n",
       "      <td>Smiths Crinkle Cut  Chips Barbecue 170g</td>\n",
       "      <td>1</td>\n",
       "      <td>2.9</td>\n",
       "      <td>170</td>\n",
       "      <td>1970-01-01</td>\n",
       "      <td>Smiths</td>\n",
       "    </tr>\n",
       "    <tr>\n",
       "      <th>15</th>\n",
       "      <td>1012</td>\n",
       "      <td>OLDER FAMILIES</td>\n",
       "      <td>Mainstream</td>\n",
       "      <td>43539</td>\n",
       "      <td>1</td>\n",
       "      <td>16</td>\n",
       "      <td>20</td>\n",
       "      <td>Doritos Cheese      Supreme 330g</td>\n",
       "      <td>1</td>\n",
       "      <td>5.7</td>\n",
       "      <td>330</td>\n",
       "      <td>1970-01-01</td>\n",
       "      <td>Doritos</td>\n",
       "    </tr>\n",
       "    <tr>\n",
       "      <th>16</th>\n",
       "      <td>1012</td>\n",
       "      <td>OLDER FAMILIES</td>\n",
       "      <td>Mainstream</td>\n",
       "      <td>43635</td>\n",
       "      <td>1</td>\n",
       "      <td>17</td>\n",
       "      <td>3</td>\n",
       "      <td>Kettle Sensations   Camembert &amp; Fig 150g</td>\n",
       "      <td>1</td>\n",
       "      <td>4.6</td>\n",
       "      <td>150</td>\n",
       "      <td>1970-01-01</td>\n",
       "      <td>Kettle</td>\n",
       "    </tr>\n",
       "    <tr>\n",
       "      <th>17</th>\n",
       "      <td>1013</td>\n",
       "      <td>RETIREES</td>\n",
       "      <td>Budget</td>\n",
       "      <td>43528</td>\n",
       "      <td>1</td>\n",
       "      <td>18</td>\n",
       "      <td>93</td>\n",
       "      <td>Doritos Corn Chip Southern Chicken 150g</td>\n",
       "      <td>1</td>\n",
       "      <td>3.9</td>\n",
       "      <td>150</td>\n",
       "      <td>1970-01-01</td>\n",
       "      <td>Doritos</td>\n",
       "    </tr>\n",
       "    <tr>\n",
       "      <th>18</th>\n",
       "      <td>1013</td>\n",
       "      <td>RETIREES</td>\n",
       "      <td>Budget</td>\n",
       "      <td>43531</td>\n",
       "      <td>1</td>\n",
       "      <td>19</td>\n",
       "      <td>91</td>\n",
       "      <td>CCs Tasty Cheese    175g</td>\n",
       "      <td>2</td>\n",
       "      <td>4.2</td>\n",
       "      <td>175</td>\n",
       "      <td>1970-01-01</td>\n",
       "      <td>CCs</td>\n",
       "    </tr>\n",
       "    <tr>\n",
       "      <th>19</th>\n",
       "      <td>1016</td>\n",
       "      <td>OLDER FAMILIES</td>\n",
       "      <td>Mainstream</td>\n",
       "      <td>43574</td>\n",
       "      <td>1</td>\n",
       "      <td>20</td>\n",
       "      <td>74</td>\n",
       "      <td>Tostitos Splash Of  Lime 175g</td>\n",
       "      <td>1</td>\n",
       "      <td>4.4</td>\n",
       "      <td>175</td>\n",
       "      <td>1970-01-01</td>\n",
       "      <td>Tostitos</td>\n",
       "    </tr>\n",
       "    <tr>\n",
       "      <th>20</th>\n",
       "      <td>1016</td>\n",
       "      <td>OLDER FAMILIES</td>\n",
       "      <td>Mainstream</td>\n",
       "      <td>43625</td>\n",
       "      <td>1</td>\n",
       "      <td>21</td>\n",
       "      <td>63</td>\n",
       "      <td>Kettle 135g Swt Pot Sea Salt</td>\n",
       "      <td>1</td>\n",
       "      <td>4.2</td>\n",
       "      <td>135</td>\n",
       "      <td>1970-01-01</td>\n",
       "      <td>Kettle</td>\n",
       "    </tr>\n",
       "    <tr>\n",
       "      <th>21</th>\n",
       "      <td>1018</td>\n",
       "      <td>YOUNG SINGLES/COUPLES</td>\n",
       "      <td>Mainstream</td>\n",
       "      <td>43346</td>\n",
       "      <td>1</td>\n",
       "      <td>22</td>\n",
       "      <td>3</td>\n",
       "      <td>Kettle Sensations   Camembert &amp; Fig 150g</td>\n",
       "      <td>1</td>\n",
       "      <td>4.6</td>\n",
       "      <td>150</td>\n",
       "      <td>1970-01-01</td>\n",
       "      <td>Kettle</td>\n",
       "    </tr>\n",
       "    <tr>\n",
       "      <th>22</th>\n",
       "      <td>1018</td>\n",
       "      <td>YOUNG SINGLES/COUPLES</td>\n",
       "      <td>Mainstream</td>\n",
       "      <td>43432</td>\n",
       "      <td>1</td>\n",
       "      <td>23</td>\n",
       "      <td>97</td>\n",
       "      <td>RRD Salt &amp; Vinegar  165g</td>\n",
       "      <td>1</td>\n",
       "      <td>3.0</td>\n",
       "      <td>165</td>\n",
       "      <td>1970-01-01</td>\n",
       "      <td>RRD</td>\n",
       "    </tr>\n",
       "    <tr>\n",
       "      <th>23</th>\n",
       "      <td>1018</td>\n",
       "      <td>YOUNG SINGLES/COUPLES</td>\n",
       "      <td>Mainstream</td>\n",
       "      <td>43636</td>\n",
       "      <td>1</td>\n",
       "      <td>24</td>\n",
       "      <td>38</td>\n",
       "      <td>Infuzions Mango     Chutny Papadums 70g</td>\n",
       "      <td>1</td>\n",
       "      <td>2.4</td>\n",
       "      <td>70</td>\n",
       "      <td>1970-01-01</td>\n",
       "      <td>Infuzions</td>\n",
       "    </tr>\n",
       "    <tr>\n",
       "      <th>24</th>\n",
       "      <td>1019</td>\n",
       "      <td>OLDER SINGLES/COUPLES</td>\n",
       "      <td>Premium</td>\n",
       "      <td>43492</td>\n",
       "      <td>1</td>\n",
       "      <td>25</td>\n",
       "      <td>84</td>\n",
       "      <td>GrnWves Plus Btroot &amp; Chilli Jam 180g</td>\n",
       "      <td>1</td>\n",
       "      <td>3.1</td>\n",
       "      <td>180</td>\n",
       "      <td>1970-01-01</td>\n",
       "      <td>GrnWves</td>\n",
       "    </tr>\n",
       "    <tr>\n",
       "      <th>25</th>\n",
       "      <td>1020</td>\n",
       "      <td>YOUNG SINGLES/COUPLES</td>\n",
       "      <td>Mainstream</td>\n",
       "      <td>43328</td>\n",
       "      <td>1</td>\n",
       "      <td>26</td>\n",
       "      <td>19</td>\n",
       "      <td>Smiths Crinkle Cut  Snag&amp;Sauce 150g</td>\n",
       "      <td>1</td>\n",
       "      <td>2.6</td>\n",
       "      <td>150</td>\n",
       "      <td>1970-01-01</td>\n",
       "      <td>Smiths</td>\n",
       "    </tr>\n",
       "    <tr>\n",
       "      <th>26</th>\n",
       "      <td>1020</td>\n",
       "      <td>YOUNG SINGLES/COUPLES</td>\n",
       "      <td>Mainstream</td>\n",
       "      <td>43375</td>\n",
       "      <td>1</td>\n",
       "      <td>27</td>\n",
       "      <td>7</td>\n",
       "      <td>Smiths Crinkle      Original 330g</td>\n",
       "      <td>1</td>\n",
       "      <td>5.7</td>\n",
       "      <td>330</td>\n",
       "      <td>1970-01-01</td>\n",
       "      <td>Smiths</td>\n",
       "    </tr>\n",
       "    <tr>\n",
       "      <th>27</th>\n",
       "      <td>1020</td>\n",
       "      <td>YOUNG SINGLES/COUPLES</td>\n",
       "      <td>Mainstream</td>\n",
       "      <td>43587</td>\n",
       "      <td>1</td>\n",
       "      <td>28</td>\n",
       "      <td>84</td>\n",
       "      <td>GrnWves Plus Btroot &amp; Chilli Jam 180g</td>\n",
       "      <td>1</td>\n",
       "      <td>3.1</td>\n",
       "      <td>180</td>\n",
       "      <td>1970-01-01</td>\n",
       "      <td>GrnWves</td>\n",
       "    </tr>\n",
       "    <tr>\n",
       "      <th>28</th>\n",
       "      <td>1022</td>\n",
       "      <td>OLDER FAMILIES</td>\n",
       "      <td>Budget</td>\n",
       "      <td>43397</td>\n",
       "      <td>1</td>\n",
       "      <td>29</td>\n",
       "      <td>3</td>\n",
       "      <td>Kettle Sensations   Camembert &amp; Fig 150g</td>\n",
       "      <td>1</td>\n",
       "      <td>4.6</td>\n",
       "      <td>150</td>\n",
       "      <td>1970-01-01</td>\n",
       "      <td>Kettle</td>\n",
       "    </tr>\n",
       "    <tr>\n",
       "      <th>29</th>\n",
       "      <td>1023</td>\n",
       "      <td>MIDAGE SINGLES/COUPLES</td>\n",
       "      <td>Premium</td>\n",
       "      <td>43612</td>\n",
       "      <td>1</td>\n",
       "      <td>30</td>\n",
       "      <td>53</td>\n",
       "      <td>RRD Sweet Chilli &amp;  Sour Cream 165g</td>\n",
       "      <td>1</td>\n",
       "      <td>3.0</td>\n",
       "      <td>165</td>\n",
       "      <td>1970-01-01</td>\n",
       "      <td>RRD</td>\n",
       "    </tr>\n",
       "    <tr>\n",
       "      <th>30</th>\n",
       "      <td>1024</td>\n",
       "      <td>YOUNG SINGLES/COUPLES</td>\n",
       "      <td>Premium</td>\n",
       "      <td>43516</td>\n",
       "      <td>1</td>\n",
       "      <td>31</td>\n",
       "      <td>5</td>\n",
       "      <td>Natural Chip        Compny SeaSalt175g</td>\n",
       "      <td>1</td>\n",
       "      <td>3.0</td>\n",
       "      <td>175</td>\n",
       "      <td>1970-01-01</td>\n",
       "      <td>Natural</td>\n",
       "    </tr>\n",
       "    <tr>\n",
       "      <th>31</th>\n",
       "      <td>1025</td>\n",
       "      <td>YOUNG FAMILIES</td>\n",
       "      <td>Budget</td>\n",
       "      <td>43425</td>\n",
       "      <td>1</td>\n",
       "      <td>32</td>\n",
       "      <td>69</td>\n",
       "      <td>Smiths Chip Thinly  S/Cream&amp;Onion 175g</td>\n",
       "      <td>2</td>\n",
       "      <td>6.0</td>\n",
       "      <td>175</td>\n",
       "      <td>1970-01-01</td>\n",
       "      <td>Smiths</td>\n",
       "    </tr>\n",
       "    <tr>\n",
       "      <th>32</th>\n",
       "      <td>1026</td>\n",
       "      <td>MIDAGE SINGLES/COUPLES</td>\n",
       "      <td>Premium</td>\n",
       "      <td>43442</td>\n",
       "      <td>1</td>\n",
       "      <td>33</td>\n",
       "      <td>91</td>\n",
       "      <td>CCs Tasty Cheese    175g</td>\n",
       "      <td>1</td>\n",
       "      <td>2.1</td>\n",
       "      <td>175</td>\n",
       "      <td>1970-01-01</td>\n",
       "      <td>CCs</td>\n",
       "    </tr>\n",
       "    <tr>\n",
       "      <th>33</th>\n",
       "      <td>1027</td>\n",
       "      <td>OLDER FAMILIES</td>\n",
       "      <td>Premium</td>\n",
       "      <td>43287</td>\n",
       "      <td>1</td>\n",
       "      <td>34</td>\n",
       "      <td>38</td>\n",
       "      <td>Infuzions Mango     Chutny Papadums 70g</td>\n",
       "      <td>1</td>\n",
       "      <td>2.4</td>\n",
       "      <td>70</td>\n",
       "      <td>1970-01-01</td>\n",
       "      <td>Infuzions</td>\n",
       "    </tr>\n",
       "    <tr>\n",
       "      <th>34</th>\n",
       "      <td>1027</td>\n",
       "      <td>OLDER FAMILIES</td>\n",
       "      <td>Premium</td>\n",
       "      <td>43325</td>\n",
       "      <td>1</td>\n",
       "      <td>35</td>\n",
       "      <td>16</td>\n",
       "      <td>Smiths Crinkle Chips Salt &amp; Vinegar 330g</td>\n",
       "      <td>1</td>\n",
       "      <td>5.7</td>\n",
       "      <td>330</td>\n",
       "      <td>1970-01-01</td>\n",
       "      <td>Smiths</td>\n",
       "    </tr>\n",
       "  </tbody>\n",
       "</table>\n",
       "</div>"
      ],
      "text/plain": [
       "    LYLTY_CARD_NBR               LIFESTAGE PREMIUM_CUSTOMER   DATE  STORE_NBR  \\\n",
       "0             1000   YOUNG SINGLES/COUPLES          Premium  43390          1   \n",
       "1             1002   YOUNG SINGLES/COUPLES       Mainstream  43359          1   \n",
       "2             1003          YOUNG FAMILIES           Budget  43531          1   \n",
       "3             1003          YOUNG FAMILIES           Budget  43532          1   \n",
       "4             1004   OLDER SINGLES/COUPLES       Mainstream  43406          1   \n",
       "5             1005  MIDAGE SINGLES/COUPLES       Mainstream  43462          1   \n",
       "6             1007   YOUNG SINGLES/COUPLES           Budget  43438          1   \n",
       "7             1007   YOUNG SINGLES/COUPLES           Budget  43439          1   \n",
       "8             1009            NEW FAMILIES          Premium  43424          1   \n",
       "9             1010   YOUNG SINGLES/COUPLES       Mainstream  43352          1   \n",
       "10            1010   YOUNG SINGLES/COUPLES       Mainstream  43448          1   \n",
       "11            1011   OLDER SINGLES/COUPLES       Mainstream  43310          1   \n",
       "12            1011   OLDER SINGLES/COUPLES       Mainstream  43412          1   \n",
       "13            1011   OLDER SINGLES/COUPLES       Mainstream  43435          1   \n",
       "14            1011   OLDER SINGLES/COUPLES       Mainstream  43453          1   \n",
       "15            1012          OLDER FAMILIES       Mainstream  43539          1   \n",
       "16            1012          OLDER FAMILIES       Mainstream  43635          1   \n",
       "17            1013                RETIREES           Budget  43528          1   \n",
       "18            1013                RETIREES           Budget  43531          1   \n",
       "19            1016          OLDER FAMILIES       Mainstream  43574          1   \n",
       "20            1016          OLDER FAMILIES       Mainstream  43625          1   \n",
       "21            1018   YOUNG SINGLES/COUPLES       Mainstream  43346          1   \n",
       "22            1018   YOUNG SINGLES/COUPLES       Mainstream  43432          1   \n",
       "23            1018   YOUNG SINGLES/COUPLES       Mainstream  43636          1   \n",
       "24            1019   OLDER SINGLES/COUPLES          Premium  43492          1   \n",
       "25            1020   YOUNG SINGLES/COUPLES       Mainstream  43328          1   \n",
       "26            1020   YOUNG SINGLES/COUPLES       Mainstream  43375          1   \n",
       "27            1020   YOUNG SINGLES/COUPLES       Mainstream  43587          1   \n",
       "28            1022          OLDER FAMILIES           Budget  43397          1   \n",
       "29            1023  MIDAGE SINGLES/COUPLES          Premium  43612          1   \n",
       "30            1024   YOUNG SINGLES/COUPLES          Premium  43516          1   \n",
       "31            1025          YOUNG FAMILIES           Budget  43425          1   \n",
       "32            1026  MIDAGE SINGLES/COUPLES          Premium  43442          1   \n",
       "33            1027          OLDER FAMILIES          Premium  43287          1   \n",
       "34            1027          OLDER FAMILIES          Premium  43325          1   \n",
       "\n",
       "    TXN_ID  PROD_NBR                                 PROD_NAME  PROD_QTY  \\\n",
       "0        1         5    Natural Chip        Compny SeaSalt175g         2   \n",
       "1        2        58     Red Rock Deli Chikn&Garlic Aioli 150g         1   \n",
       "2        3        52     Grain Waves Sour    Cream&Chives 210G         1   \n",
       "3        4       106    Natural ChipCo      Hony Soy Chckn175g         1   \n",
       "4        5        96            WW Original Stacked Chips 160g         1   \n",
       "5        6        86                        Cheetos Puffs 165g         1   \n",
       "6        7        49  Infuzions SourCream&Herbs Veg Strws 110g         1   \n",
       "7        8        10       RRD SR Slow Rst     Pork Belly 150g         1   \n",
       "8        9        20          Doritos Cheese      Supreme 330g         1   \n",
       "9       10        51                  Doritos Mexicana    170g         2   \n",
       "10      11        59   Old El Paso Salsa   Dip Tomato Med 300g         1   \n",
       "11      12        84     GrnWves Plus Btroot & Chilli Jam 180g         2   \n",
       "12      13        59   Old El Paso Salsa   Dip Tomato Med 300g         1   \n",
       "13      14        49  Infuzions SourCream&Herbs Veg Strws 110g         1   \n",
       "14      15         1   Smiths Crinkle Cut  Chips Barbecue 170g         1   \n",
       "15      16        20          Doritos Cheese      Supreme 330g         1   \n",
       "16      17         3  Kettle Sensations   Camembert & Fig 150g         1   \n",
       "17      18        93   Doritos Corn Chip Southern Chicken 150g         1   \n",
       "18      19        91                  CCs Tasty Cheese    175g         2   \n",
       "19      20        74             Tostitos Splash Of  Lime 175g         1   \n",
       "20      21        63              Kettle 135g Swt Pot Sea Salt         1   \n",
       "21      22         3  Kettle Sensations   Camembert & Fig 150g         1   \n",
       "22      23        97                  RRD Salt & Vinegar  165g         1   \n",
       "23      24        38   Infuzions Mango     Chutny Papadums 70g         1   \n",
       "24      25        84     GrnWves Plus Btroot & Chilli Jam 180g         1   \n",
       "25      26        19       Smiths Crinkle Cut  Snag&Sauce 150g         1   \n",
       "26      27         7         Smiths Crinkle      Original 330g         1   \n",
       "27      28        84     GrnWves Plus Btroot & Chilli Jam 180g         1   \n",
       "28      29         3  Kettle Sensations   Camembert & Fig 150g         1   \n",
       "29      30        53       RRD Sweet Chilli &  Sour Cream 165g         1   \n",
       "30      31         5    Natural Chip        Compny SeaSalt175g         1   \n",
       "31      32        69    Smiths Chip Thinly  S/Cream&Onion 175g         2   \n",
       "32      33        91                  CCs Tasty Cheese    175g         1   \n",
       "33      34        38   Infuzions Mango     Chutny Papadums 70g         1   \n",
       "34      35        16  Smiths Crinkle Chips Salt & Vinegar 330g         1   \n",
       "\n",
       "    TOT_SALES  wight_g        date      brand  \n",
       "0         6.0      175  1970-01-01    Natural  \n",
       "1         2.7      150  1970-01-01        Red  \n",
       "2         3.6      210  1970-01-01      Grain  \n",
       "3         3.0      175  1970-01-01    Natural  \n",
       "4         1.9      160  1970-01-01         WW  \n",
       "5         2.8      165  1970-01-01    Cheetos  \n",
       "6         3.8      110  1970-01-01  Infuzions  \n",
       "7         2.7      150  1970-01-01        RRD  \n",
       "8         5.7      330  1970-01-01    Doritos  \n",
       "9         8.8      170  1970-01-01    Doritos  \n",
       "10        5.1      300  1970-01-01        Old  \n",
       "11        6.2      180  1970-01-01    GrnWves  \n",
       "12        5.1      300  1970-01-01        Old  \n",
       "13        3.8      110  1970-01-01  Infuzions  \n",
       "14        2.9      170  1970-01-01     Smiths  \n",
       "15        5.7      330  1970-01-01    Doritos  \n",
       "16        4.6      150  1970-01-01     Kettle  \n",
       "17        3.9      150  1970-01-01    Doritos  \n",
       "18        4.2      175  1970-01-01        CCs  \n",
       "19        4.4      175  1970-01-01   Tostitos  \n",
       "20        4.2      135  1970-01-01     Kettle  \n",
       "21        4.6      150  1970-01-01     Kettle  \n",
       "22        3.0      165  1970-01-01        RRD  \n",
       "23        2.4       70  1970-01-01  Infuzions  \n",
       "24        3.1      180  1970-01-01    GrnWves  \n",
       "25        2.6      150  1970-01-01     Smiths  \n",
       "26        5.7      330  1970-01-01     Smiths  \n",
       "27        3.1      180  1970-01-01    GrnWves  \n",
       "28        4.6      150  1970-01-01     Kettle  \n",
       "29        3.0      165  1970-01-01        RRD  \n",
       "30        3.0      175  1970-01-01    Natural  \n",
       "31        6.0      175  1970-01-01     Smiths  \n",
       "32        2.1      175  1970-01-01        CCs  \n",
       "33        2.4       70  1970-01-01  Infuzions  \n",
       "34        5.7      330  1970-01-01     Smiths  "
      ]
     },
     "execution_count": 71,
     "metadata": {},
     "output_type": "execute_result"
    }
   ],
   "source": [
    "data.head(35)"
   ]
  },
  {
   "cell_type": "code",
   "execution_count": 67,
   "id": "498c8a09-3cf8-43da-ae18-4b9a1161060a",
   "metadata": {},
   "outputs": [
    {
     "data": {
      "text/plain": [
       "array(['Natural', 'Red', 'Grain', 'WW', 'Cheetos', 'Infuzions', 'RRD',\n",
       "       'Doritos', 'Old', 'GrnWves', 'Smiths', 'Kettle', 'CCs', 'Tostitos',\n",
       "       'Cobs', 'Burger', 'Woolworths', 'Thins', 'Tyrrells', 'Smith',\n",
       "       'Cheezels', 'Twisties', 'Sunbites', 'Snbts', 'Pringles', 'French',\n",
       "       'Infzns', 'Dorito', 'NCC'], dtype=object)"
      ]
     },
     "execution_count": 67,
     "metadata": {},
     "output_type": "execute_result"
    }
   ],
   "source": [
    "data[\"brand\"].unique()"
   ]
  },
  {
   "cell_type": "code",
   "execution_count": 68,
   "id": "45f95702-dde3-4a0f-9d0b-aa05f5b24591",
   "metadata": {},
   "outputs": [],
   "source": [
    "# replace these with proper names"
   ]
  },
  {
   "cell_type": "code",
   "execution_count": 90,
   "id": "d9b0cb98-ca82-4dde-88a4-c7a65924a074",
   "metadata": {},
   "outputs": [],
   "source": [
    "data[\"brand\"]=data[\"brand\"].str.replace(\"Natural\", \"Natural Chips Cmpny\")\n",
    "data[\"brand\"]=data[\"brand\"].str.replace(\"Red\", \"Red Rock Deli\")\n",
    "data[\"brand\"]=data[\"brand\"].str.replace(\"Grain\", \"Grain Waves\")\n",
    "data[\"brand\"]=data[\"brand\"].str.replace(\"WW\", \"WW Original\")\n",
    "data[\"brand\"]=data[\"brand\"].str.replace(\"Infzn\",\"Infuzions\")\n",
    "data[\"brand\"]=data[\"brand\"].str.replace(\"Thin\", \"Thin Chips\")\n",
    "data[\"brand\"]=data[\"brand\"].str.replace(\"Grain\", \"Grain Waves\")\n",
    "data[\"brand\"]=data[\"brand\"].str.replace(\"French\", \"French Fries\")\n"
   ]
  },
  {
   "cell_type": "code",
   "execution_count": 80,
   "id": "6e665ce3-e44b-472a-9769-d5bcd741a8b8",
   "metadata": {},
   "outputs": [
    {
     "name": "stdout",
     "output_type": "stream",
     "text": [
      "        LYLTY_CARD_NBR              LIFESTAGE PREMIUM_CUSTOMER   DATE  \\\n",
      "105               1097               RETIREES           Budget  43431   \n",
      "106               1097               RETIREES           Budget  43489   \n",
      "107               1097               RETIREES           Budget  43590   \n",
      "108               1099  OLDER SINGLES/COUPLES          Premium  43383   \n",
      "109               1099  OLDER SINGLES/COUPLES          Premium  43521   \n",
      "...                ...                    ...              ...    ...   \n",
      "264831         2370701         YOUNG FAMILIES       Mainstream  43442   \n",
      "264832         2370751         YOUNG FAMILIES          Premium  43374   \n",
      "264833         2370961         OLDER FAMILIES           Budget  43397   \n",
      "264834         2370961         OLDER FAMILIES           Budget  43400   \n",
      "264835         2373711  YOUNG SINGLES/COUPLES       Mainstream  43448   \n",
      "\n",
      "        STORE_NBR  TXN_ID  PROD_NBR                                 PROD_NAME  \\\n",
      "105             1     111        29            French Fries Potato Chips 175g   \n",
      "106             1     112       102    Kettle Mozzarella   Basil & Pesto 175g   \n",
      "107             1     113        55      Snbts Whlgrn Crisps Cheddr&Mstrd 90g   \n",
      "108             1     114        30   Doritos Corn Chips  Cheese Supreme 170g   \n",
      "109             1     115       105            Woolworths Cheese   Rings 190g   \n",
      "...           ...     ...       ...                                       ...   \n",
      "264831         88  240378        24     Grain Waves         Sweet Chilli 210g   \n",
      "264832         88  240394        60      Kettle Tortilla ChpsFeta&Garlic 150g   \n",
      "264833         88  240480        70   Tyrrells Crisps     Lightly Salted 165g   \n",
      "264834         88  240481        65  Old El Paso Salsa   Dip Chnky Tom Ht300g   \n",
      "264835         88  241815        16  Smiths Crinkle Chips Salt & Vinegar 330g   \n",
      "\n",
      "        PROD_QTY  TOT_SALES  wight_g        date       brand  \n",
      "105            1        3.0      175  1970-01-01      French  \n",
      "106            2       10.8      175  1970-01-01      Kettle  \n",
      "107            1        1.7       90  1970-01-01       Snbts  \n",
      "108            1        4.4      170  1970-01-01     Doritos  \n",
      "109            1        1.8      190  1970-01-01  Woolworths  \n",
      "...          ...        ...      ...         ...         ...  \n",
      "264831         2        7.2      210  1970-01-01       Grain  \n",
      "264832         2        9.2      150  1970-01-01      Kettle  \n",
      "264833         2        8.4      165  1970-01-01    Tyrrells  \n",
      "264834         2       10.2      300  1970-01-01         Old  \n",
      "264835         2       11.4      330  1970-01-01      Smiths  \n",
      "\n",
      "[264731 rows x 13 columns]\n"
     ]
    }
   ],
   "source": [
    "print(data[data[\"PROD_NAME\"].str.startswith(\"French\").argmax():])"
   ]
  },
  {
   "cell_type": "code",
   "execution_count": 91,
   "id": "384ef774-5f00-4db0-a203-3e05cf4554f5",
   "metadata": {},
   "outputs": [
    {
     "data": {
      "text/plain": [
       "array(['Natural Chips Cmpny Chips Cmpny', 'Red Rock Deli',\n",
       "       'Grain Waves Waves', 'WW Original', 'Cheetos', 'Infuzions', 'RRD',\n",
       "       'Doritos', 'Old', 'GrnWves', 'Smiths', 'Kettle', 'CCs', 'Tostitos',\n",
       "       'Cobs', 'Burger', 'Woolworths', 'Thin Chipss', 'Tyrrells', 'Smith',\n",
       "       'Cheezels', 'Twisties', 'Sunbites', 'Snbts', 'Pringles',\n",
       "       'French Fries', 'Infuzionss', 'Dorito', 'NCC'], dtype=object)"
      ]
     },
     "execution_count": 91,
     "metadata": {},
     "output_type": "execute_result"
    }
   ],
   "source": [
    "data[\"brand\"].unique()"
   ]
  },
  {
   "cell_type": "code",
   "execution_count": 92,
   "id": "ac6edd0e-e70e-4442-bb1a-1d7a622ebd6f",
   "metadata": {},
   "outputs": [
    {
     "data": {
      "text/html": [
       "<div>\n",
       "<style scoped>\n",
       "    .dataframe tbody tr th:only-of-type {\n",
       "        vertical-align: middle;\n",
       "    }\n",
       "\n",
       "    .dataframe tbody tr th {\n",
       "        vertical-align: top;\n",
       "    }\n",
       "\n",
       "    .dataframe thead th {\n",
       "        text-align: right;\n",
       "    }\n",
       "</style>\n",
       "<table border=\"1\" class=\"dataframe\">\n",
       "  <thead>\n",
       "    <tr style=\"text-align: right;\">\n",
       "      <th></th>\n",
       "      <th>LYLTY_CARD_NBR</th>\n",
       "      <th>LIFESTAGE</th>\n",
       "      <th>PREMIUM_CUSTOMER</th>\n",
       "      <th>DATE</th>\n",
       "      <th>STORE_NBR</th>\n",
       "      <th>TXN_ID</th>\n",
       "      <th>PROD_NBR</th>\n",
       "      <th>PROD_NAME</th>\n",
       "      <th>PROD_QTY</th>\n",
       "      <th>TOT_SALES</th>\n",
       "      <th>wight_g</th>\n",
       "      <th>date</th>\n",
       "      <th>brand</th>\n",
       "    </tr>\n",
       "  </thead>\n",
       "  <tbody>\n",
       "    <tr>\n",
       "      <th>0</th>\n",
       "      <td>1000</td>\n",
       "      <td>YOUNG SINGLES/COUPLES</td>\n",
       "      <td>Premium</td>\n",
       "      <td>43390</td>\n",
       "      <td>1</td>\n",
       "      <td>1</td>\n",
       "      <td>5</td>\n",
       "      <td>Natural Chip        Compny SeaSalt175g</td>\n",
       "      <td>2</td>\n",
       "      <td>6.0</td>\n",
       "      <td>175</td>\n",
       "      <td>1970-01-01</td>\n",
       "      <td>Natural Chips Cmpny Chips Cmpny</td>\n",
       "    </tr>\n",
       "    <tr>\n",
       "      <th>1</th>\n",
       "      <td>1002</td>\n",
       "      <td>YOUNG SINGLES/COUPLES</td>\n",
       "      <td>Mainstream</td>\n",
       "      <td>43359</td>\n",
       "      <td>1</td>\n",
       "      <td>2</td>\n",
       "      <td>58</td>\n",
       "      <td>Red Rock Deli Chikn&amp;Garlic Aioli 150g</td>\n",
       "      <td>1</td>\n",
       "      <td>2.7</td>\n",
       "      <td>150</td>\n",
       "      <td>1970-01-01</td>\n",
       "      <td>Red Rock Deli</td>\n",
       "    </tr>\n",
       "    <tr>\n",
       "      <th>2</th>\n",
       "      <td>1003</td>\n",
       "      <td>YOUNG FAMILIES</td>\n",
       "      <td>Budget</td>\n",
       "      <td>43531</td>\n",
       "      <td>1</td>\n",
       "      <td>3</td>\n",
       "      <td>52</td>\n",
       "      <td>Grain Waves Sour    Cream&amp;Chives 210G</td>\n",
       "      <td>1</td>\n",
       "      <td>3.6</td>\n",
       "      <td>210</td>\n",
       "      <td>1970-01-01</td>\n",
       "      <td>Grain Waves Waves</td>\n",
       "    </tr>\n",
       "    <tr>\n",
       "      <th>3</th>\n",
       "      <td>1003</td>\n",
       "      <td>YOUNG FAMILIES</td>\n",
       "      <td>Budget</td>\n",
       "      <td>43532</td>\n",
       "      <td>1</td>\n",
       "      <td>4</td>\n",
       "      <td>106</td>\n",
       "      <td>Natural ChipCo      Hony Soy Chckn175g</td>\n",
       "      <td>1</td>\n",
       "      <td>3.0</td>\n",
       "      <td>175</td>\n",
       "      <td>1970-01-01</td>\n",
       "      <td>Natural Chips Cmpny Chips Cmpny</td>\n",
       "    </tr>\n",
       "    <tr>\n",
       "      <th>4</th>\n",
       "      <td>1004</td>\n",
       "      <td>OLDER SINGLES/COUPLES</td>\n",
       "      <td>Mainstream</td>\n",
       "      <td>43406</td>\n",
       "      <td>1</td>\n",
       "      <td>5</td>\n",
       "      <td>96</td>\n",
       "      <td>WW Original Stacked Chips 160g</td>\n",
       "      <td>1</td>\n",
       "      <td>1.9</td>\n",
       "      <td>160</td>\n",
       "      <td>1970-01-01</td>\n",
       "      <td>WW Original</td>\n",
       "    </tr>\n",
       "  </tbody>\n",
       "</table>\n",
       "</div>"
      ],
      "text/plain": [
       "   LYLTY_CARD_NBR              LIFESTAGE PREMIUM_CUSTOMER   DATE  STORE_NBR  \\\n",
       "0            1000  YOUNG SINGLES/COUPLES          Premium  43390          1   \n",
       "1            1002  YOUNG SINGLES/COUPLES       Mainstream  43359          1   \n",
       "2            1003         YOUNG FAMILIES           Budget  43531          1   \n",
       "3            1003         YOUNG FAMILIES           Budget  43532          1   \n",
       "4            1004  OLDER SINGLES/COUPLES       Mainstream  43406          1   \n",
       "\n",
       "   TXN_ID  PROD_NBR                               PROD_NAME  PROD_QTY  \\\n",
       "0       1         5  Natural Chip        Compny SeaSalt175g         2   \n",
       "1       2        58   Red Rock Deli Chikn&Garlic Aioli 150g         1   \n",
       "2       3        52   Grain Waves Sour    Cream&Chives 210G         1   \n",
       "3       4       106  Natural ChipCo      Hony Soy Chckn175g         1   \n",
       "4       5        96          WW Original Stacked Chips 160g         1   \n",
       "\n",
       "   TOT_SALES  wight_g        date                            brand  \n",
       "0        6.0      175  1970-01-01  Natural Chips Cmpny Chips Cmpny  \n",
       "1        2.7      150  1970-01-01                    Red Rock Deli  \n",
       "2        3.6      210  1970-01-01                Grain Waves Waves  \n",
       "3        3.0      175  1970-01-01  Natural Chips Cmpny Chips Cmpny  \n",
       "4        1.9      160  1970-01-01                      WW Original  "
      ]
     },
     "execution_count": 92,
     "metadata": {},
     "output_type": "execute_result"
    }
   ],
   "source": [
    "data.head()"
   ]
  },
  {
   "cell_type": "code",
   "execution_count": null,
   "id": "b5e87245-84fa-4a80-a644-317dd1f4e3ae",
   "metadata": {},
   "outputs": [],
   "source": [
    "# group by brand"
   ]
  },
  {
   "cell_type": "code",
   "execution_count": 95,
   "id": "74c8da93-a9ed-4c34-8492-0f63d7c8d9be",
   "metadata": {},
   "outputs": [
    {
     "data": {
      "text/plain": [
       "brand\n",
       "Kettle                             390239.8\n",
       "Smiths                             210076.8\n",
       "Doritos                            201538.9\n",
       "Pringles                           177655.5\n",
       "Old                                 90785.1\n",
       "Thin Chipss                         88852.5\n",
       "Twisties                            81522.1\n",
       "Tostitos                            79789.6\n",
       "Infuzions                           76247.6\n",
       "Cobs                                70569.8\n",
       "RRD                                 64954.5\n",
       "Tyrrells                            51647.4\n",
       "Grain Waves Waves                   43048.8\n",
       "Dorito                              40352.0\n",
       "Cheezels                            40029.9\n",
       "WW Original                         35889.5\n",
       "Natural Chips Cmpny Chips Cmpny     34272.0\n",
       "Red Rock Deli                       30091.5\n",
       "Infuzionss                          22800.0\n",
       "CCs                                 18078.9\n",
       "Cheetos                             16884.5\n",
       "Smith                               14583.4\n",
       "Woolworths                          13454.1\n",
       "GrnWves                              8568.4\n",
       "NCC                                  8046.0\n",
       "French Fries                         7929.0\n",
       "Burger                               6831.0\n",
       "Snbts                                5076.2\n",
       "Sunbites                             4600.2\n",
       "Name: TOT_SALES, dtype: float64"
      ]
     },
     "execution_count": 95,
     "metadata": {},
     "output_type": "execute_result"
    }
   ],
   "source": [
    "data.groupby(\"brand\")[\"TOT_SALES\"].sum().sort_values(ascending = False)"
   ]
  },
  {
   "cell_type": "code",
   "execution_count": 97,
   "id": "20cb6170-267d-497b-adeb-acab56990230",
   "metadata": {},
   "outputs": [],
   "source": [
    "data[\"brand\"]=data[\"brand\"].str.replace(\"Snbts\", \"Sunbites\")"
   ]
  },
  {
   "cell_type": "code",
   "execution_count": null,
   "id": "600d5e7c-0df0-452c-af33-42dc803472e2",
   "metadata": {},
   "outputs": [],
   "source": [
    "# remove old salsa and burger from list"
   ]
  },
  {
   "cell_type": "code",
   "execution_count": 116,
   "id": "df66f5fc-2a49-49b9-86fd-66b80b8d02d8",
   "metadata": {},
   "outputs": [],
   "source": [
    "data_chips = data[~data[\"PROD_NAME\"].str.contains(\"Salsa\")]\n",
    "data_chips = data[~data[\"PROD_NAME\"].str.contains(\"salsa\")]\n",
    "data_chips = data[~data[\"PROD_NAME\"].str.contains(\"Burger\")]\n"
   ]
  },
  {
   "cell_type": "code",
   "execution_count": 118,
   "id": "a1ed7a1d-f59d-4876-8c1e-8880ef9296af",
   "metadata": {},
   "outputs": [
    {
     "data": {
      "text/plain": [
       "array(['Natural Chips Cmpny Chips Cmpny', 'Red Rock Deli',\n",
       "       'Grain Waves Waves', 'WW Original', 'Cheetos', 'Infuzions', 'RRD',\n",
       "       'Doritos', 'Old', 'GrnWves', 'Smiths', 'Kettle', 'CCs', 'Tostitos',\n",
       "       'Cobs', 'Woolworths', 'Thin Chipss', 'Tyrrells', 'Smith',\n",
       "       'Cheezels', 'Twisties', 'Sunbites', 'Pringles', 'French Fries',\n",
       "       'Infuzionss', 'Dorito', 'NCC'], dtype=object)"
      ]
     },
     "execution_count": 118,
     "metadata": {},
     "output_type": "execute_result"
    }
   ],
   "source": [
    "data_chips[\"brand\"].unique()"
   ]
  },
  {
   "cell_type": "code",
   "execution_count": 115,
   "id": "f8e4e8e1-2bd2-46ac-bd40-90b45279771b",
   "metadata": {},
   "outputs": [
    {
     "data": {
      "text/plain": [
       "<bound method NDFrame.describe of         LYLTY_CARD_NBR              LIFESTAGE PREMIUM_CUSTOMER   DATE  \\\n",
       "0                 1000  YOUNG SINGLES/COUPLES          Premium  43390   \n",
       "1                 1002  YOUNG SINGLES/COUPLES       Mainstream  43359   \n",
       "2                 1003         YOUNG FAMILIES           Budget  43531   \n",
       "3                 1003         YOUNG FAMILIES           Budget  43532   \n",
       "4                 1004  OLDER SINGLES/COUPLES       Mainstream  43406   \n",
       "...                ...                    ...              ...    ...   \n",
       "264831         2370701         YOUNG FAMILIES       Mainstream  43442   \n",
       "264832         2370751         YOUNG FAMILIES          Premium  43374   \n",
       "264833         2370961         OLDER FAMILIES           Budget  43397   \n",
       "264834         2370961         OLDER FAMILIES           Budget  43400   \n",
       "264835         2373711  YOUNG SINGLES/COUPLES       Mainstream  43448   \n",
       "\n",
       "        STORE_NBR  TXN_ID  PROD_NBR                                 PROD_NAME  \\\n",
       "0               1       1         5    Natural Chip        Compny SeaSalt175g   \n",
       "1               1       2        58     Red Rock Deli Chikn&Garlic Aioli 150g   \n",
       "2               1       3        52     Grain Waves Sour    Cream&Chives 210G   \n",
       "3               1       4       106    Natural ChipCo      Hony Soy Chckn175g   \n",
       "4               1       5        96            WW Original Stacked Chips 160g   \n",
       "...           ...     ...       ...                                       ...   \n",
       "264831         88  240378        24     Grain Waves         Sweet Chilli 210g   \n",
       "264832         88  240394        60      Kettle Tortilla ChpsFeta&Garlic 150g   \n",
       "264833         88  240480        70   Tyrrells Crisps     Lightly Salted 165g   \n",
       "264834         88  240481        65  Old El Paso Salsa   Dip Chnky Tom Ht300g   \n",
       "264835         88  241815        16  Smiths Crinkle Chips Salt & Vinegar 330g   \n",
       "\n",
       "        PROD_QTY  TOT_SALES  wight_g        date  \\\n",
       "0              2        6.0      175  1970-01-01   \n",
       "1              1        2.7      150  1970-01-01   \n",
       "2              1        3.6      210  1970-01-01   \n",
       "3              1        3.0      175  1970-01-01   \n",
       "4              1        1.9      160  1970-01-01   \n",
       "...          ...        ...      ...         ...   \n",
       "264831         2        7.2      210  1970-01-01   \n",
       "264832         2        9.2      150  1970-01-01   \n",
       "264833         2        8.4      165  1970-01-01   \n",
       "264834         2       10.2      300  1970-01-01   \n",
       "264835         2       11.4      330  1970-01-01   \n",
       "\n",
       "                                  brand  \n",
       "0       Natural Chips Cmpny Chips Cmpny  \n",
       "1                         Red Rock Deli  \n",
       "2                     Grain Waves Waves  \n",
       "3       Natural Chips Cmpny Chips Cmpny  \n",
       "4                           WW Original  \n",
       "...                                 ...  \n",
       "264831                Grain Waves Waves  \n",
       "264832                           Kettle  \n",
       "264833                         Tyrrells  \n",
       "264834                              Old  \n",
       "264835                           Smiths  \n",
       "\n",
       "[260103 rows x 13 columns]>"
      ]
     },
     "execution_count": 115,
     "metadata": {},
     "output_type": "execute_result"
    }
   ],
   "source": [
    "data_chips.describe"
   ]
  },
  {
   "cell_type": "code",
   "execution_count": 119,
   "id": "030d630e-9d37-4548-bb49-d314ef8f687e",
   "metadata": {},
   "outputs": [
    {
     "data": {
      "text/plain": [
       "(array([  4515.,  23841.,  74460., 106133.,  10745.,      0.,   6285.,\n",
       "         15166.,  12540.,   6418.]),\n",
       " array([ 70., 101., 132., 163., 194., 225., 256., 287., 318., 349., 380.]),\n",
       " <BarContainer object of 10 artists>)"
      ]
     },
     "execution_count": 119,
     "metadata": {},
     "output_type": "execute_result"
    },
    {
     "data": {
      "image/png": "[encoded data removed]",
      "text/plain": [
       "<Figure size 640x480 with 1 Axes>"
      ]
     },
     "metadata": {},
     "output_type": "display_data"
    }
   ],
   "source": [
    "plt.hist(data_chips[\"wight_g\"])"
   ]
  },
  {
   "cell_type": "code",
   "execution_count": 120,
   "id": "e476cd51-f1fb-48e6-a3fd-16c9feed94f1",
   "metadata": {},
   "outputs": [
    {
     "data": {
      "text/plain": [
       "(array([35751., 42833.,     0., 53519.,     0., 24676.,  6802.,     0.,\n",
       "        47680., 48842.]),\n",
       " array([0. , 0.6, 1.2, 1.8, 2.4, 3. , 3.6, 4.2, 4.8, 5.4, 6. ]),\n",
       " <BarContainer object of 10 artists>)"
      ]
     },
     "execution_count": 120,
     "metadata": {},
     "output_type": "execute_result"
    },
    {
     "data": {
      "image/png": "[encoded data removed]",
      "text/plain": [
       "<Figure size 2000x1000 with 1 Axes>"
      ]
     },
     "metadata": {},
     "output_type": "display_data"
    }
   ],
   "source": [
    "\n",
    "\n",
    "plt.figure(figsize=(20,10))\n",
    "plt.hist(data_chips[\"LIFESTAGE\"])"
   ]
  },
  {
   "cell_type": "code",
   "execution_count": 121,
   "id": "fda6b6f6-4d43-4a7b-a67c-91138d9590db",
   "metadata": {},
   "outputs": [
    {
     "data": {
      "text/plain": [
       "(array([ 68423.,      0.,      0.,      0.,      0., 100198.,      0.,\n",
       "             0.,      0.,  91482.]),\n",
       " array([0. , 0.2, 0.4, 0.6, 0.8, 1. , 1.2, 1.4, 1.6, 1.8, 2. ]),\n",
       " <BarContainer object of 10 artists>)"
      ]
     },
     "execution_count": 121,
     "metadata": {},
     "output_type": "execute_result"
    },
    {
     "data": {
      "image/png": "[encoded data removed]",
      "text/plain": [
       "<Figure size 640x480 with 1 Axes>"
      ]
     },
     "metadata": {},
     "output_type": "display_data"
    }
   ],
   "source": [
    "plt.hist(data_chips[\"PREMIUM_CUSTOMER\"])"
   ]
  },
  {
   "cell_type": "code",
   "execution_count": 109,
   "id": "8c6e9dc6-61fb-4708-ba57-5032987bda17",
   "metadata": {},
   "outputs": [],
   "source": [
    "#Lets do something complex using lifestage and premium\n",
    "\n",
    "# Let's graph which types of people spend most on chips"
   ]
  },
  {
   "cell_type": "code",
   "execution_count": 122,
   "id": "4990674a-f8ec-422f-92ba-d23c937361f4",
   "metadata": {},
   "outputs": [
    {
     "data": {
      "text/plain": [
       "<Axes: xlabel='LIFESTAGE'>"
      ]
     },
     "execution_count": 122,
     "metadata": {},
     "output_type": "execute_result"
    },
    {
     "data": {
      "image/png": "[encoded data removed]",
      "text/plain": [
       "<Figure size 640x480 with 1 Axes>"
      ]
     },
     "metadata": {},
     "output_type": "display_data"
    }
   ],
   "source": [
    "cat_field = data_chips[\"LIFESTAGE\"]\n",
    "sub_field=data_chips[\"PREMIUM_CUSTOMER\"]\n",
    "# make a cross table\n",
    "histdat = pd.crosstab(cat_field, sub_field)\n",
    "\n",
    "histdat.plot(kind=\"bar\", stacked = True)"
   ]
  },
  {
   "cell_type": "code",
   "execution_count": 127,
   "id": "2f2ef2bb-7556-4713-bf63-71e6bb52229a",
   "metadata": {},
   "outputs": [
    {
     "data": {
      "text/html": [
       "<div>\n",
       "<style scoped>\n",
       "    .dataframe tbody tr th:only-of-type {\n",
       "        vertical-align: middle;\n",
       "    }\n",
       "\n",
       "    .dataframe tbody tr th {\n",
       "        vertical-align: top;\n",
       "    }\n",
       "\n",
       "    .dataframe thead th {\n",
       "        text-align: right;\n",
       "    }\n",
       "</style>\n",
       "<table border=\"1\" class=\"dataframe\">\n",
       "  <thead>\n",
       "    <tr style=\"text-align: right;\">\n",
       "      <th></th>\n",
       "      <th>LYLTY_CARD_NBR</th>\n",
       "      <th>LIFESTAGE</th>\n",
       "      <th>PREMIUM_CUSTOMER</th>\n",
       "      <th>DATE</th>\n",
       "      <th>STORE_NBR</th>\n",
       "      <th>TXN_ID</th>\n",
       "      <th>PROD_NBR</th>\n",
       "      <th>PROD_NAME</th>\n",
       "      <th>PROD_QTY</th>\n",
       "      <th>TOT_SALES</th>\n",
       "      <th>wight_g</th>\n",
       "      <th>date</th>\n",
       "      <th>brand</th>\n",
       "    </tr>\n",
       "  </thead>\n",
       "  <tbody>\n",
       "    <tr>\n",
       "      <th>0</th>\n",
       "      <td>1000</td>\n",
       "      <td>YOUNG SINGLES/COUPLES</td>\n",
       "      <td>Premium</td>\n",
       "      <td>43390</td>\n",
       "      <td>1</td>\n",
       "      <td>1</td>\n",
       "      <td>5</td>\n",
       "      <td>Natural Chip        Compny SeaSalt175g</td>\n",
       "      <td>2</td>\n",
       "      <td>6.0</td>\n",
       "      <td>175</td>\n",
       "      <td>1970-01-01</td>\n",
       "      <td>Natural Chips Cmpny Chips Cmpny</td>\n",
       "    </tr>\n",
       "    <tr>\n",
       "      <th>1</th>\n",
       "      <td>1002</td>\n",
       "      <td>YOUNG SINGLES/COUPLES</td>\n",
       "      <td>Mainstream</td>\n",
       "      <td>43359</td>\n",
       "      <td>1</td>\n",
       "      <td>2</td>\n",
       "      <td>58</td>\n",
       "      <td>Red Rock Deli Chikn&amp;Garlic Aioli 150g</td>\n",
       "      <td>1</td>\n",
       "      <td>2.7</td>\n",
       "      <td>150</td>\n",
       "      <td>1970-01-01</td>\n",
       "      <td>Red Rock Deli</td>\n",
       "    </tr>\n",
       "  </tbody>\n",
       "</table>\n",
       "</div>"
      ],
      "text/plain": [
       "   LYLTY_CARD_NBR              LIFESTAGE PREMIUM_CUSTOMER   DATE  STORE_NBR  \\\n",
       "0            1000  YOUNG SINGLES/COUPLES          Premium  43390          1   \n",
       "1            1002  YOUNG SINGLES/COUPLES       Mainstream  43359          1   \n",
       "\n",
       "   TXN_ID  PROD_NBR                               PROD_NAME  PROD_QTY  \\\n",
       "0       1         5  Natural Chip        Compny SeaSalt175g         2   \n",
       "1       2        58   Red Rock Deli Chikn&Garlic Aioli 150g         1   \n",
       "\n",
       "   TOT_SALES  wight_g        date                            brand  \n",
       "0        6.0      175  1970-01-01  Natural Chips Cmpny Chips Cmpny  \n",
       "1        2.7      150  1970-01-01                    Red Rock Deli  "
      ]
     },
     "execution_count": 127,
     "metadata": {},
     "output_type": "execute_result"
    }
   ],
   "source": [
    "## find mean and std for basic stats\n",
    "\n",
    "data_chips.head(2)\n"
   ]
  },
  {
   "cell_type": "code",
   "execution_count": 128,
   "id": "2a6f8d30-c46d-4ccf-bc49-f2ee5d094182",
   "metadata": {},
   "outputs": [
    {
     "data": {
      "text/plain": [
       "7.304199580117505"
      ]
     },
     "execution_count": 128,
     "metadata": {},
     "output_type": "execute_result"
    }
   ],
   "source": [
    "data[\"TOT_SALES\"].mean()"
   ]
  },
  {
   "cell_type": "code",
   "execution_count": 129,
   "id": "8b3d3051-9a60-42cc-96d7-95bce598128d",
   "metadata": {},
   "outputs": [
    {
     "data": {
      "text/plain": [
       "3.0832257462333983"
      ]
     },
     "execution_count": 129,
     "metadata": {},
     "output_type": "execute_result"
    }
   ],
   "source": [
    "data[\"TOT_SALES\"].std()"
   ]
  },
  {
   "cell_type": "code",
   "execution_count": 132,
   "id": "7253b1c0-3bfc-4b39-bf79-a94bcf6409ce",
   "metadata": {},
   "outputs": [
    {
     "data": {
      "text/plain": [
       "650.0"
      ]
     },
     "execution_count": 132,
     "metadata": {},
     "output_type": "execute_result"
    }
   ],
   "source": [
    "data_chips[\"TOT_SALES\"].max()"
   ]
  },
  {
   "cell_type": "code",
   "execution_count": 133,
   "id": "440ca466-446b-487e-8c56-0f1ab8694c81",
   "metadata": {},
   "outputs": [
    {
     "data": {
      "text/plain": [
       "[<matplotlib.lines.Line2D at 0x7428b31a32e0>]"
      ]
     },
     "execution_count": 133,
     "metadata": {},
     "output_type": "execute_result"
    },
    {
     "data": {
      "image/png": "[encoded data removed]",
      "text/plain": [
       "<Figure size 640x480 with 1 Axes>"
      ]
     },
     "metadata": {},
     "output_type": "display_data"
    }
   ],
   "source": [
    "plt.plot(data_chips[\"TOT_SALES\"])"
   ]
  },
  {
   "cell_type": "code",
   "execution_count": null,
   "id": "1f4958b0-ef1f-4b85-94da-67cc197a808f",
   "metadata": {},
   "outputs": [],
   "source": [
    "# we see that there is a single sale of 600 packs and the rest of the data is far below 100\n",
    "# we remove that outlier data\n"
   ]
  },
  {
   "cell_type": "code",
   "execution_count": 137,
   "id": "34bf2080-390e-4da0-8040-94659dddd0b1",
   "metadata": {},
   "outputs": [],
   "source": [
    "data_chips_new=data_chips[~(data_chips[\"TOT_SALES\"]>100)]"
   ]
  },
  {
   "cell_type": "code",
   "execution_count": 138,
   "id": "a3afda73-8684-42b9-a99d-3e7b03536094",
   "metadata": {},
   "outputs": [
    {
     "data": {
      "text/plain": [
       "[<matplotlib.lines.Line2D at 0x7428b272d1e0>]"
      ]
     },
     "execution_count": 138,
     "metadata": {},
     "output_type": "execute_result"
    },
    {
     "data": {
      "image/png": "[encoded data removed]",
      "text/plain": [
       "<Figure size 640x480 with 1 Axes>"
      ]
     },
     "metadata": {},
     "output_type": "display_data"
    }
   ],
   "source": [
    "plt.plot(data_chips_new[\"TOT_SALES\"])"
   ]
  },
  {
   "cell_type": "code",
   "execution_count": 139,
   "id": "da4a9c35-2043-4f70-9f83-253d870b63b5",
   "metadata": {},
   "outputs": [
    {
     "data": {
      "text/plain": [
       "7.30557475749805"
      ]
     },
     "execution_count": 139,
     "metadata": {},
     "output_type": "execute_result"
    }
   ],
   "source": [
    "data_chips_new[\"TOT_SALES\"].mean()"
   ]
  },
  {
   "cell_type": "code",
   "execution_count": 140,
   "id": "6f518807-9c74-4a93-a9d1-16527ffad9ca",
   "metadata": {},
   "outputs": [
    {
     "data": {
      "text/plain": [
       "2.5319243460821337"
      ]
     },
     "execution_count": 140,
     "metadata": {},
     "output_type": "execute_result"
    }
   ],
   "source": [
    "data_chips_new[\"TOT_SALES\"].std()"
   ]
  },
  {
   "cell_type": "code",
   "execution_count": null,
   "id": "15ef0ab3-9648-439d-9605-63cc95021a2e",
   "metadata": {},
   "outputs": [],
   "source": [
    "# we see that the std has gone down significantly after removing the outlier"
   ]
  },
  {
   "cell_type": "code",
   "execution_count": null,
   "id": "78f9f807-5222-4311-b037-2829c01aa157",
   "metadata": {},
   "outputs": [],
   "source": [
    "# We now analyze the trend of sales in stores"
   ]
  },
  {
   "cell_type": "code",
   "execution_count": 141,
   "id": "50084d8a-3533-43c1-9372-5e236db037ce",
   "metadata": {},
   "outputs": [
    {
     "data": {
      "text/plain": [
       "array([  1,   2,   3,   4,   5,   6,   7,   8,   9,  10,  11,  12,  13,\n",
       "        14,  15,  16,  17,  18,  19,  20,  21,  22,  23,  24,  25,  26,\n",
       "        27,  28,  29,  30,  31,  32,  33,  34,  35,  36,  37,  38,  39,\n",
       "        40,  41,  42,  43,  44,  45,  46,  47,  48,  49,  50,  51,  52,\n",
       "        53,  54,  55,  56,  57,  58,  59,  60,  61,  62,  63,  64,  65,\n",
       "        66,  67,  68,  69,  70,  71,  72,  73,  74,  75,  76,  77,  78,\n",
       "        79,  80,  81,  82,  83,  84,  85,  86, 155,  87,  88,  89,  90,\n",
       "        91,  92,  93,  94,  95,  96,  97,  98,  99, 100, 101, 102, 103,\n",
       "       104, 105, 106, 107, 108, 109, 110, 111, 112, 113, 114, 115, 116,\n",
       "       117, 118, 119, 120, 121, 122, 123, 124, 125, 126, 127, 128, 129,\n",
       "       130, 131, 132, 133, 134, 135, 136, 137, 138, 139, 140, 141, 142,\n",
       "       143, 144, 145, 146, 147, 148, 149, 150, 151, 152, 153, 154, 156,\n",
       "       157, 158, 159, 160, 161, 162, 163, 164, 165, 166, 167, 168, 169,\n",
       "       170, 171, 172, 173, 174, 175, 176, 177, 178, 179, 180, 181, 182,\n",
       "       183, 184, 185, 186, 187, 188, 189, 190, 191, 192, 193, 194, 195,\n",
       "       196, 197, 198, 199, 200, 201, 202, 203, 204, 205, 206, 207, 208,\n",
       "       209, 210, 211, 212, 213, 214, 215, 216, 217, 218, 219, 220, 221,\n",
       "       222, 223, 224, 225, 226, 227, 228, 229, 230, 231, 232, 233, 234,\n",
       "       235, 236, 237, 238, 239, 240, 241, 242, 243, 244, 245, 246, 247,\n",
       "       248, 249, 250, 251, 252, 253, 254, 255, 256, 257, 258, 259, 260,\n",
       "       261, 262, 263, 264, 265, 266, 267, 268, 269, 270, 271, 272])"
      ]
     },
     "execution_count": 141,
     "metadata": {},
     "output_type": "execute_result"
    }
   ],
   "source": [
    "data_chips_new[\"STORE_NBR\"].unique()"
   ]
  },
  {
   "cell_type": "code",
   "execution_count": 143,
   "id": "bc0e48f2-ac57-4dbd-9a97-207e40d9f011",
   "metadata": {},
   "outputs": [
    {
     "data": {
      "text/plain": [
       "260101"
      ]
     },
     "execution_count": 143,
     "metadata": {},
     "output_type": "execute_result"
    }
   ],
   "source": [
    "data_chips_new[\"STORE_NBR\"].count()"
   ]
  },
  {
   "cell_type": "code",
   "execution_count": null,
   "id": "79e7f21a-e8af-4f49-8ccc-fbc51472a2e1",
   "metadata": {},
   "outputs": [],
   "source": [
    "# we will aggregate total sales for the 272 stores.  Many of them appear multiple\n",
    "# times and so we will group by stores and aggregate by total sales"
   ]
  },
  {
   "cell_type": "code",
   "execution_count": 147,
   "id": "38cfa755-9b71-4f6b-8aa6-1f9c3978eee7",
   "metadata": {},
   "outputs": [],
   "source": [
    "stores = data_chips_new.groupby(\"STORE_NBR\")[\"TOT_SALES\"].sum().sort_values(ascending = False)"
   ]
  },
  {
   "cell_type": "code",
   "execution_count": 148,
   "id": "9f6fc6a3-d8ff-40da-bf8f-d9c1de92fbba",
   "metadata": {},
   "outputs": [
    {
     "name": "stdout",
     "output_type": "stream",
     "text": [
      "STORE_NBR\n",
      "226    17317.35\n",
      "88     16101.05\n",
      "165    15754.45\n",
      "40     15383.20\n",
      "237    15264.30\n",
      "         ...   \n",
      "206        7.60\n",
      "252        7.40\n",
      "11         6.70\n",
      "76         6.00\n",
      "211        5.20\n",
      "Name: TOT_SALES, Length: 272, dtype: float64\n"
     ]
    }
   ],
   "source": [
    "print(stores)"
   ]
  },
  {
   "cell_type": "code",
   "execution_count": null,
   "id": "68077a29-f79d-4119-95db-1fca511fae58",
   "metadata": {},
   "outputs": [],
   "source": [
    "# We see that while some stores sell a lot of chips, some barely sell chips.\n",
    "# Hencce, it might be interesting to stock chips accordingly"
   ]
  }
 ],
 "metadata": {
  "kernelspec": {
   "display_name": "anaconda-2024.02-py310",
   "language": "python",
   "name": "conda-env-anaconda-2024.02-py310-py"
  },
  "language_info": {
   "codemirror_mode": {
    "name": "ipython",
    "version": 3
   },
   "file_extension": ".py",
   "mimetype": "text/x-python",
   "name": "python",
   "nbconvert_exporter": "python",
   "pygments_lexer": "ipython3",
   "version": "3.10.14"
  }
 },
 "nbformat": 4,
 "nbformat_minor": 5
}
