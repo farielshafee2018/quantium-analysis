{
 "cells": [
  {
   "cell_type": "code",
   "execution_count": 1,
   "id": "49745cb4-3bcc-4be1-80a9-fb9cede1efd5",
   "metadata": {},
   "outputs": [
    {
     "data": {
      "text/plain": [
       "''"
      ]
     },
     "execution_count": 1,
     "metadata": {},
     "output_type": "execute_result"
    }
   ],
   "source": [
    "\"\"\" \n",
    "The data is acquired from a Forage Virtual Internship project by Quantium.  The assignment questions were redefined, \n",
    "however, and we performed our own data analysis using our criteria, though keeping in with the basic idea.\n",
    "\n",
    "We first tried to understand the customers and how they spend, and we see that older couples and young couples\n",
    "spend the most rather than families.  Most young families opt to be budget members.  \n",
    "\n",
    "We then look at the products and identify the brands and the weights of chips.  We look at trends and see\n",
    "which brands sell the most and which weights dominate the market.  Before performing this analysis, we had\n",
    "to separate the brand names and the weights from a product name column where the particulars are concatenated in\n",
    "one line.  \n",
    "\n",
    "We also clean the data to get rid of a salsa and a burger item.\n",
    "\n",
    "We finally create a complex stacked graph where the customer profiles and spending are put together to understand\n",
    "spending demographics.\n",
    "\n",
    "Before we carry out any statistical analysis, we look for outliers.  To do that, we first organize the data\n",
    "according to data (after converting the integer dat column into datetime and extracting the date part).  Then\n",
    "we look at the buying trend and look at the mean and std.  \n",
    "\n",
    "We look at the sales data and remove an outlier. \n",
    "\n",
    "Then we look at the stores and see how chips sells over the 272 unique stores after grouing over stores and\n",
    "aggregating total sales.\n",
    "\n",
    "\n",
    "RECOMMENDATIONS\n",
    "---------------\n",
    "\n",
    "1. From the analysis, we see see that young families over all types of membership levels buy\n",
    "very few packets.  So it might be interesting to issue coupons targeting this group.\n",
    "\n",
    "2.  We see that some stores sell many packets while some stores barely sell chips.  It might be a \n",
    "good idea to analyse further the characteristics of these stores to understand why this difference occurs.\n",
    "\n",
    "3.  However, it might be a good idea to redistribute chips stocks and resources based on sales volume.\n",
    "\n",
    "4.  The stores that sell very little chips might also think of giving discounts on chips or offering other\n",
    "incentives.\n",
    "\n",
    "\n",
    "\n",
    "\"\"\"\n",
    "\n"
   ]
  },
  {
   "cell_type": "code",
   "execution_count": null,
   "id": "9538cea4-17d1-4986-8442-2630d1d5d69e",
   "metadata": {},
   "outputs": [],
   "source": []
  }
 ],
 "metadata": {
  "kernelspec": {
   "display_name": "anaconda-2024.02-py310",
   "language": "python",
   "name": "conda-env-anaconda-2024.02-py310-py"
  },
  "language_info": {
   "codemirror_mode": {
    "name": "ipython",
    "version": 3
   },
   "file_extension": ".py",
   "mimetype": "text/x-python",
   "name": "python",
   "nbconvert_exporter": "python",
   "pygments_lexer": "ipython3",
   "version": "3.10.14"
  }
 },
 "nbformat": 4,
 "nbformat_minor": 5
}
